{
 "cells": [
  {
   "cell_type": "markdown",
   "metadata": {},
   "source": [
    "## Machine learning"
   ]
  },
  {
   "cell_type": "markdown",
   "metadata": {},
   "source": [
    "#### Import librairies"
   ]
  },
  {
   "cell_type": "code",
   "execution_count": 1,
   "metadata": {},
   "outputs": [],
   "source": [
    "import pandas as pd\n",
    "import numpy as np\n",
    "import matplotlib.pyplot as plt\n",
    "import statistics\n",
    "\n",
    "# Import mean_squared_error as MSE\n",
    "from sklearn.metrics import mean_squared_error as MSE"
   ]
  },
  {
   "cell_type": "markdown",
   "metadata": {},
   "source": [
    "#### récupération données"
   ]
  },
  {
   "cell_type": "code",
   "execution_count": 2,
   "metadata": {},
   "outputs": [],
   "source": [
    "data = pd.read_csv(\"total_data.csv\")\n",
    "hopital = pd.read_csv(\"Nbpatients.csv\")"
   ]
  },
  {
   "cell_type": "markdown",
   "metadata": {},
   "source": [
    "#### Visualisation données"
   ]
  },
  {
   "cell_type": "code",
   "execution_count": 3,
   "metadata": {},
   "outputs": [
    {
     "data": {
      "text/html": [
       "<div>\n",
       "<style scoped>\n",
       "    .dataframe tbody tr th:only-of-type {\n",
       "        vertical-align: middle;\n",
       "    }\n",
       "\n",
       "    .dataframe tbody tr th {\n",
       "        vertical-align: top;\n",
       "    }\n",
       "\n",
       "    .dataframe thead th {\n",
       "        text-align: right;\n",
       "    }\n",
       "</style>\n",
       "<table border=\"1\" class=\"dataframe\">\n",
       "  <thead>\n",
       "    <tr style=\"text-align: right;\">\n",
       "      <th></th>\n",
       "      <th>Unnamed: 0</th>\n",
       "      <th>date</th>\n",
       "      <th>no2_moy</th>\n",
       "      <th>pm10_moy</th>\n",
       "      <th>pm25_moy</th>\n",
       "      <th>temp_moy</th>\n",
       "      <th>pluie_moy</th>\n",
       "      <th>humid_moy</th>\n",
       "      <th>press_moy</th>\n",
       "      <th>vent_moy</th>\n",
       "      <th>nb_patient</th>\n",
       "    </tr>\n",
       "  </thead>\n",
       "  <tbody>\n",
       "    <tr>\n",
       "      <th>0</th>\n",
       "      <td>0</td>\n",
       "      <td>2017-09-18</td>\n",
       "      <td>47,00</td>\n",
       "      <td>14,51</td>\n",
       "      <td>3,2</td>\n",
       "      <td>10.758333</td>\n",
       "      <td>0.216667</td>\n",
       "      <td>85.083333</td>\n",
       "      <td>1017.754167</td>\n",
       "      <td>8.791667</td>\n",
       "      <td>22</td>\n",
       "    </tr>\n",
       "    <tr>\n",
       "      <th>1</th>\n",
       "      <td>1</td>\n",
       "      <td>2017-09-19</td>\n",
       "      <td>38,63</td>\n",
       "      <td>13,15</td>\n",
       "      <td>8</td>\n",
       "      <td>12.075000</td>\n",
       "      <td>0.050000</td>\n",
       "      <td>79.125000</td>\n",
       "      <td>1021.441667</td>\n",
       "      <td>9.041667</td>\n",
       "      <td>25</td>\n",
       "    </tr>\n",
       "    <tr>\n",
       "      <th>2</th>\n",
       "      <td>2</td>\n",
       "      <td>2017-09-20</td>\n",
       "      <td>43,92</td>\n",
       "      <td>16,84</td>\n",
       "      <td>7,2</td>\n",
       "      <td>11.720833</td>\n",
       "      <td>0.000000</td>\n",
       "      <td>78.458333</td>\n",
       "      <td>1022.545833</td>\n",
       "      <td>6.000000</td>\n",
       "      <td>30</td>\n",
       "    </tr>\n",
       "    <tr>\n",
       "      <th>3</th>\n",
       "      <td>3</td>\n",
       "      <td>2017-09-21</td>\n",
       "      <td>45,54</td>\n",
       "      <td>19,25</td>\n",
       "      <td>10,1</td>\n",
       "      <td>13.704167</td>\n",
       "      <td>0.008333</td>\n",
       "      <td>71.916667</td>\n",
       "      <td>1019.054167</td>\n",
       "      <td>4.791667</td>\n",
       "      <td>12</td>\n",
       "    </tr>\n",
       "    <tr>\n",
       "      <th>4</th>\n",
       "      <td>4</td>\n",
       "      <td>2017-09-22</td>\n",
       "      <td>47,92</td>\n",
       "      <td>18,14</td>\n",
       "      <td>6,7</td>\n",
       "      <td>14.216667</td>\n",
       "      <td>0.008333</td>\n",
       "      <td>76.375000</td>\n",
       "      <td>1021.754167</td>\n",
       "      <td>7.375000</td>\n",
       "      <td>22</td>\n",
       "    </tr>\n",
       "  </tbody>\n",
       "</table>\n",
       "</div>"
      ],
      "text/plain": [
       "   Unnamed: 0        date no2_moy pm10_moy pm25_moy   temp_moy  pluie_moy  \\\n",
       "0           0  2017-09-18   47,00    14,51      3,2  10.758333   0.216667   \n",
       "1           1  2017-09-19   38,63    13,15        8  12.075000   0.050000   \n",
       "2           2  2017-09-20   43,92    16,84      7,2  11.720833   0.000000   \n",
       "3           3  2017-09-21   45,54    19,25     10,1  13.704167   0.008333   \n",
       "4           4  2017-09-22   47,92    18,14      6,7  14.216667   0.008333   \n",
       "\n",
       "   humid_moy    press_moy  vent_moy  nb_patient  \n",
       "0  85.083333  1017.754167  8.791667          22  \n",
       "1  79.125000  1021.441667  9.041667          25  \n",
       "2  78.458333  1022.545833  6.000000          30  \n",
       "3  71.916667  1019.054167  4.791667          12  \n",
       "4  76.375000  1021.754167  7.375000          22  "
      ]
     },
     "execution_count": 3,
     "metadata": {},
     "output_type": "execute_result"
    }
   ],
   "source": [
    "data.head()"
   ]
  },
  {
   "cell_type": "code",
   "execution_count": 4,
   "metadata": {},
   "outputs": [
    {
     "data": {
      "text/html": [
       "<div>\n",
       "<style scoped>\n",
       "    .dataframe tbody tr th:only-of-type {\n",
       "        vertical-align: middle;\n",
       "    }\n",
       "\n",
       "    .dataframe tbody tr th {\n",
       "        vertical-align: top;\n",
       "    }\n",
       "\n",
       "    .dataframe thead th {\n",
       "        text-align: right;\n",
       "    }\n",
       "</style>\n",
       "<table border=\"1\" class=\"dataframe\">\n",
       "  <thead>\n",
       "    <tr style=\"text-align: right;\">\n",
       "      <th></th>\n",
       "      <th>Unnamed: 0</th>\n",
       "      <th>DATE_ENTREE</th>\n",
       "      <th>AGE</th>\n",
       "      <th>NIV_GRAV</th>\n",
       "      <th>DUREE_SEJOUR</th>\n",
       "      <th>Nb_patients</th>\n",
       "    </tr>\n",
       "  </thead>\n",
       "  <tbody>\n",
       "    <tr>\n",
       "      <th>0</th>\n",
       "      <td>0</td>\n",
       "      <td>2015-01-01</td>\n",
       "      <td>54.128596</td>\n",
       "      <td>2.625000</td>\n",
       "      <td>6.868750</td>\n",
       "      <td>16</td>\n",
       "    </tr>\n",
       "    <tr>\n",
       "      <th>1</th>\n",
       "      <td>1</td>\n",
       "      <td>2015-01-02</td>\n",
       "      <td>44.444879</td>\n",
       "      <td>2.666667</td>\n",
       "      <td>11.676984</td>\n",
       "      <td>21</td>\n",
       "    </tr>\n",
       "    <tr>\n",
       "      <th>2</th>\n",
       "      <td>2</td>\n",
       "      <td>2015-01-03</td>\n",
       "      <td>46.301494</td>\n",
       "      <td>3.380952</td>\n",
       "      <td>8.826515</td>\n",
       "      <td>22</td>\n",
       "    </tr>\n",
       "    <tr>\n",
       "      <th>3</th>\n",
       "      <td>3</td>\n",
       "      <td>2015-01-04</td>\n",
       "      <td>58.431703</td>\n",
       "      <td>2.761905</td>\n",
       "      <td>10.519841</td>\n",
       "      <td>21</td>\n",
       "    </tr>\n",
       "    <tr>\n",
       "      <th>4</th>\n",
       "      <td>4</td>\n",
       "      <td>2015-01-05</td>\n",
       "      <td>57.463242</td>\n",
       "      <td>2.500000</td>\n",
       "      <td>7.659722</td>\n",
       "      <td>12</td>\n",
       "    </tr>\n",
       "  </tbody>\n",
       "</table>\n",
       "</div>"
      ],
      "text/plain": [
       "   Unnamed: 0 DATE_ENTREE        AGE  NIV_GRAV  DUREE_SEJOUR  Nb_patients\n",
       "0           0  2015-01-01  54.128596  2.625000      6.868750           16\n",
       "1           1  2015-01-02  44.444879  2.666667     11.676984           21\n",
       "2           2  2015-01-03  46.301494  3.380952      8.826515           22\n",
       "3           3  2015-01-04  58.431703  2.761905     10.519841           21\n",
       "4           4  2015-01-05  57.463242  2.500000      7.659722           12"
      ]
     },
     "execution_count": 4,
     "metadata": {},
     "output_type": "execute_result"
    }
   ],
   "source": [
    "hopital.head()"
   ]
  },
  {
   "cell_type": "markdown",
   "metadata": {},
   "source": [
    "#### Traitement données"
   ]
  },
  {
   "cell_type": "code",
   "execution_count": 5,
   "metadata": {},
   "outputs": [],
   "source": [
    "for elem in hopital.DUREE_SEJOUR:\n",
    "    if elem < 0 : \n",
    "        elem = 1"
   ]
  },
  {
   "cell_type": "code",
   "execution_count": 6,
   "metadata": {},
   "outputs": [],
   "source": [
    "data_tot = pd.DataFrame()\n",
    "\n",
    "data_tot = data\n",
    "data_tot[\"AGE\"] = hopital[\"AGE\"]\n",
    "data_tot[\"NIV_GRAV\"] = hopital[\"NIV_GRAV\"]\n",
    "data_tot[\"DUREE_SEJOUR\"] = hopital[\"DUREE_SEJOUR\"]"
   ]
  },
  {
   "cell_type": "code",
   "execution_count": 7,
   "metadata": {},
   "outputs": [
    {
     "name": "stdout",
     "output_type": "stream",
     "text": [
      "<bound method NDFrame.head of      Unnamed: 0        date no2_moy pm10_moy pm25_moy   temp_moy  pluie_moy  \\\n",
      "0             0  2017-09-18   47,00    14,51      3,2  10.758333   0.216667   \n",
      "1             1  2017-09-19   38,63    13,15        8  12.075000   0.050000   \n",
      "2             2  2017-09-20   43,92    16,84      7,2  11.720833   0.000000   \n",
      "3             3  2017-09-21   45,54    19,25     10,1  13.704167   0.008333   \n",
      "4             4  2017-09-22   47,92    18,14      6,7  14.216667   0.008333   \n",
      "..          ...         ...     ...      ...      ...        ...        ...   \n",
      "788         788  2019-12-27   38,39    20,07      2,1   9.462500   0.200000   \n",
      "789         789  2019-12-28   25,87    21,65      3,1   6.658333   0.000000   \n",
      "790         790  2019-12-29   21,44    10,98      1,8   2.087500   0.000000   \n",
      "791         791  2019-12-30   32,74    16,72        0   1.908333   0.000000   \n",
      "792         792  2019-12-31   44,85    19,76        0   0.687500   0.000000   \n",
      "\n",
      "     humid_moy    press_moy   vent_moy  nb_patient        AGE  NIV_GRAV  \\\n",
      "0    85.083333  1017.754167   8.791667          22  54.128596  2.625000   \n",
      "1    79.125000  1021.441667   9.041667          25  44.444879  2.666667   \n",
      "2    78.458333  1022.545833   6.000000          30  46.301494  3.380952   \n",
      "3    71.916667  1019.054167   4.791667          12  58.431703  2.761905   \n",
      "4    76.375000  1021.754167   7.375000          22  57.463242  2.500000   \n",
      "..         ...          ...        ...         ...        ...       ...   \n",
      "788  84.458333  1028.125000  15.500000          28  66.372740  2.526316   \n",
      "789  81.708333  1037.504167   9.125000          26  60.430466  2.583333   \n",
      "790  85.625000  1036.408333   5.791667          17  59.002087  2.952381   \n",
      "791  85.375000  1033.337500   3.625000          21  66.216796  2.565217   \n",
      "792  92.458333  1032.487500   5.208333          21  58.339269  2.500000   \n",
      "\n",
      "     DUREE_SEJOUR  \n",
      "0        6.868750  \n",
      "1       11.676984  \n",
      "2        8.826515  \n",
      "3       10.519841  \n",
      "4        7.659722  \n",
      "..            ...  \n",
      "788     12.603333  \n",
      "789     12.047333  \n",
      "790      8.640476  \n",
      "791      9.534783  \n",
      "792      9.886111  \n",
      "\n",
      "[793 rows x 14 columns]>\n"
     ]
    }
   ],
   "source": [
    "print(data_tot.head)\n"
   ]
  },
  {
   "cell_type": "code",
   "execution_count": 8,
   "metadata": {},
   "outputs": [
    {
     "data": {
      "text/html": [
       "<div>\n",
       "<style scoped>\n",
       "    .dataframe tbody tr th:only-of-type {\n",
       "        vertical-align: middle;\n",
       "    }\n",
       "\n",
       "    .dataframe tbody tr th {\n",
       "        vertical-align: top;\n",
       "    }\n",
       "\n",
       "    .dataframe thead th {\n",
       "        text-align: right;\n",
       "    }\n",
       "</style>\n",
       "<table border=\"1\" class=\"dataframe\">\n",
       "  <thead>\n",
       "    <tr style=\"text-align: right;\">\n",
       "      <th></th>\n",
       "      <th>date</th>\n",
       "      <th>no2_moy</th>\n",
       "      <th>pm10_moy</th>\n",
       "      <th>pm25_moy</th>\n",
       "      <th>temp_moy</th>\n",
       "      <th>pluie_moy</th>\n",
       "      <th>humid_moy</th>\n",
       "      <th>press_moy</th>\n",
       "      <th>vent_moy</th>\n",
       "      <th>nb_patient</th>\n",
       "      <th>AGE</th>\n",
       "      <th>NIV_GRAV</th>\n",
       "      <th>DUREE_SEJOUR</th>\n",
       "    </tr>\n",
       "  </thead>\n",
       "  <tbody>\n",
       "    <tr>\n",
       "      <th>0</th>\n",
       "      <td>2017-09-18</td>\n",
       "      <td>47,00</td>\n",
       "      <td>14,51</td>\n",
       "      <td>3,2</td>\n",
       "      <td>10.758333</td>\n",
       "      <td>0.216667</td>\n",
       "      <td>85.083333</td>\n",
       "      <td>1017.754167</td>\n",
       "      <td>8.791667</td>\n",
       "      <td>22</td>\n",
       "      <td>54.128596</td>\n",
       "      <td>2.625000</td>\n",
       "      <td>6.868750</td>\n",
       "    </tr>\n",
       "    <tr>\n",
       "      <th>1</th>\n",
       "      <td>2017-09-19</td>\n",
       "      <td>38,63</td>\n",
       "      <td>13,15</td>\n",
       "      <td>8</td>\n",
       "      <td>12.075000</td>\n",
       "      <td>0.050000</td>\n",
       "      <td>79.125000</td>\n",
       "      <td>1021.441667</td>\n",
       "      <td>9.041667</td>\n",
       "      <td>25</td>\n",
       "      <td>44.444879</td>\n",
       "      <td>2.666667</td>\n",
       "      <td>11.676984</td>\n",
       "    </tr>\n",
       "    <tr>\n",
       "      <th>2</th>\n",
       "      <td>2017-09-20</td>\n",
       "      <td>43,92</td>\n",
       "      <td>16,84</td>\n",
       "      <td>7,2</td>\n",
       "      <td>11.720833</td>\n",
       "      <td>0.000000</td>\n",
       "      <td>78.458333</td>\n",
       "      <td>1022.545833</td>\n",
       "      <td>6.000000</td>\n",
       "      <td>30</td>\n",
       "      <td>46.301494</td>\n",
       "      <td>3.380952</td>\n",
       "      <td>8.826515</td>\n",
       "    </tr>\n",
       "    <tr>\n",
       "      <th>3</th>\n",
       "      <td>2017-09-21</td>\n",
       "      <td>45,54</td>\n",
       "      <td>19,25</td>\n",
       "      <td>10,1</td>\n",
       "      <td>13.704167</td>\n",
       "      <td>0.008333</td>\n",
       "      <td>71.916667</td>\n",
       "      <td>1019.054167</td>\n",
       "      <td>4.791667</td>\n",
       "      <td>12</td>\n",
       "      <td>58.431703</td>\n",
       "      <td>2.761905</td>\n",
       "      <td>10.519841</td>\n",
       "    </tr>\n",
       "    <tr>\n",
       "      <th>4</th>\n",
       "      <td>2017-09-22</td>\n",
       "      <td>47,92</td>\n",
       "      <td>18,14</td>\n",
       "      <td>6,7</td>\n",
       "      <td>14.216667</td>\n",
       "      <td>0.008333</td>\n",
       "      <td>76.375000</td>\n",
       "      <td>1021.754167</td>\n",
       "      <td>7.375000</td>\n",
       "      <td>22</td>\n",
       "      <td>57.463242</td>\n",
       "      <td>2.500000</td>\n",
       "      <td>7.659722</td>\n",
       "    </tr>\n",
       "    <tr>\n",
       "      <th>...</th>\n",
       "      <td>...</td>\n",
       "      <td>...</td>\n",
       "      <td>...</td>\n",
       "      <td>...</td>\n",
       "      <td>...</td>\n",
       "      <td>...</td>\n",
       "      <td>...</td>\n",
       "      <td>...</td>\n",
       "      <td>...</td>\n",
       "      <td>...</td>\n",
       "      <td>...</td>\n",
       "      <td>...</td>\n",
       "      <td>...</td>\n",
       "    </tr>\n",
       "    <tr>\n",
       "      <th>788</th>\n",
       "      <td>2019-12-27</td>\n",
       "      <td>38,39</td>\n",
       "      <td>20,07</td>\n",
       "      <td>2,1</td>\n",
       "      <td>9.462500</td>\n",
       "      <td>0.200000</td>\n",
       "      <td>84.458333</td>\n",
       "      <td>1028.125000</td>\n",
       "      <td>15.500000</td>\n",
       "      <td>28</td>\n",
       "      <td>66.372740</td>\n",
       "      <td>2.526316</td>\n",
       "      <td>12.603333</td>\n",
       "    </tr>\n",
       "    <tr>\n",
       "      <th>789</th>\n",
       "      <td>2019-12-28</td>\n",
       "      <td>25,87</td>\n",
       "      <td>21,65</td>\n",
       "      <td>3,1</td>\n",
       "      <td>6.658333</td>\n",
       "      <td>0.000000</td>\n",
       "      <td>81.708333</td>\n",
       "      <td>1037.504167</td>\n",
       "      <td>9.125000</td>\n",
       "      <td>26</td>\n",
       "      <td>60.430466</td>\n",
       "      <td>2.583333</td>\n",
       "      <td>12.047333</td>\n",
       "    </tr>\n",
       "    <tr>\n",
       "      <th>790</th>\n",
       "      <td>2019-12-29</td>\n",
       "      <td>21,44</td>\n",
       "      <td>10,98</td>\n",
       "      <td>1,8</td>\n",
       "      <td>2.087500</td>\n",
       "      <td>0.000000</td>\n",
       "      <td>85.625000</td>\n",
       "      <td>1036.408333</td>\n",
       "      <td>5.791667</td>\n",
       "      <td>17</td>\n",
       "      <td>59.002087</td>\n",
       "      <td>2.952381</td>\n",
       "      <td>8.640476</td>\n",
       "    </tr>\n",
       "    <tr>\n",
       "      <th>791</th>\n",
       "      <td>2019-12-30</td>\n",
       "      <td>32,74</td>\n",
       "      <td>16,72</td>\n",
       "      <td>0</td>\n",
       "      <td>1.908333</td>\n",
       "      <td>0.000000</td>\n",
       "      <td>85.375000</td>\n",
       "      <td>1033.337500</td>\n",
       "      <td>3.625000</td>\n",
       "      <td>21</td>\n",
       "      <td>66.216796</td>\n",
       "      <td>2.565217</td>\n",
       "      <td>9.534783</td>\n",
       "    </tr>\n",
       "    <tr>\n",
       "      <th>792</th>\n",
       "      <td>2019-12-31</td>\n",
       "      <td>44,85</td>\n",
       "      <td>19,76</td>\n",
       "      <td>0</td>\n",
       "      <td>0.687500</td>\n",
       "      <td>0.000000</td>\n",
       "      <td>92.458333</td>\n",
       "      <td>1032.487500</td>\n",
       "      <td>5.208333</td>\n",
       "      <td>21</td>\n",
       "      <td>58.339269</td>\n",
       "      <td>2.500000</td>\n",
       "      <td>9.886111</td>\n",
       "    </tr>\n",
       "  </tbody>\n",
       "</table>\n",
       "<p>793 rows × 13 columns</p>\n",
       "</div>"
      ],
      "text/plain": [
       "           date no2_moy pm10_moy pm25_moy   temp_moy  pluie_moy  humid_moy  \\\n",
       "0    2017-09-18   47,00    14,51      3,2  10.758333   0.216667  85.083333   \n",
       "1    2017-09-19   38,63    13,15        8  12.075000   0.050000  79.125000   \n",
       "2    2017-09-20   43,92    16,84      7,2  11.720833   0.000000  78.458333   \n",
       "3    2017-09-21   45,54    19,25     10,1  13.704167   0.008333  71.916667   \n",
       "4    2017-09-22   47,92    18,14      6,7  14.216667   0.008333  76.375000   \n",
       "..          ...     ...      ...      ...        ...        ...        ...   \n",
       "788  2019-12-27   38,39    20,07      2,1   9.462500   0.200000  84.458333   \n",
       "789  2019-12-28   25,87    21,65      3,1   6.658333   0.000000  81.708333   \n",
       "790  2019-12-29   21,44    10,98      1,8   2.087500   0.000000  85.625000   \n",
       "791  2019-12-30   32,74    16,72        0   1.908333   0.000000  85.375000   \n",
       "792  2019-12-31   44,85    19,76        0   0.687500   0.000000  92.458333   \n",
       "\n",
       "       press_moy   vent_moy  nb_patient        AGE  NIV_GRAV  DUREE_SEJOUR  \n",
       "0    1017.754167   8.791667          22  54.128596  2.625000      6.868750  \n",
       "1    1021.441667   9.041667          25  44.444879  2.666667     11.676984  \n",
       "2    1022.545833   6.000000          30  46.301494  3.380952      8.826515  \n",
       "3    1019.054167   4.791667          12  58.431703  2.761905     10.519841  \n",
       "4    1021.754167   7.375000          22  57.463242  2.500000      7.659722  \n",
       "..           ...        ...         ...        ...       ...           ...  \n",
       "788  1028.125000  15.500000          28  66.372740  2.526316     12.603333  \n",
       "789  1037.504167   9.125000          26  60.430466  2.583333     12.047333  \n",
       "790  1036.408333   5.791667          17  59.002087  2.952381      8.640476  \n",
       "791  1033.337500   3.625000          21  66.216796  2.565217      9.534783  \n",
       "792  1032.487500   5.208333          21  58.339269  2.500000      9.886111  \n",
       "\n",
       "[793 rows x 13 columns]"
      ]
     },
     "execution_count": 8,
     "metadata": {},
     "output_type": "execute_result"
    }
   ],
   "source": [
    "del data_tot[\"Unnamed: 0\"]\n",
    "data_tot"
   ]
  },
  {
   "cell_type": "markdown",
   "metadata": {},
   "source": [
    "#### Conversion format données "
   ]
  },
  {
   "cell_type": "code",
   "execution_count": 9,
   "metadata": {},
   "outputs": [],
   "source": [
    "liste = []\n",
    "\n",
    "for elem in data_tot[\"no2_moy\"]:\n",
    "    if type(elem) != float:\n",
    "        liste.append(float(elem.replace(\",\",\".\")))\n",
    "data_tot[\"no2_moy\"] = liste\n",
    "\n",
    "liste2 = []\n",
    "f = 19/4\n",
    "\n",
    "for elem in data_tot[\"pm10_moy\"]:\n",
    "    if elem == '019/04':\n",
    "        elem = f\n",
    "    if type(elem) != float:\n",
    "        elem = (float(elem.replace(\",\",\".\")))\n",
    "    liste2.append(elem)\n",
    "data_tot[\"pm10_moy\"] = liste2\n",
    "\n",
    "liste3 = []\n",
    "\n",
    "for elem in data_tot[\"pm25_moy\"]:\n",
    "    if type(elem) != float:\n",
    "        liste3.append(float(elem.replace(\",\",\".\")))\n",
    "data_tot[\"pm25_moy\"] = liste3"
   ]
  },
  {
   "cell_type": "code",
   "execution_count": 10,
   "metadata": {},
   "outputs": [],
   "source": [
    "mean_nbp = statistics.mean(data_tot.nb_patient)\n",
    "mean_age = statistics.mean(data_tot.AGE)\n",
    "mean_grv = statistics.mean(data_tot.NIV_GRAV)\n",
    "mean_sej = statistics.mean(data_tot.DUREE_SEJOUR)"
   ]
  },
  {
   "cell_type": "markdown",
   "metadata": {},
   "source": [
    "#### Graphique données"
   ]
  },
  {
   "cell_type": "markdown",
   "metadata": {},
   "source": [
    "#### Corélation targets"
   ]
  },
  {
   "cell_type": "code",
   "execution_count": 11,
   "metadata": {},
   "outputs": [],
   "source": [
    "corr = data_tot.corr()"
   ]
  },
  {
   "cell_type": "code",
   "execution_count": 12,
   "metadata": {},
   "outputs": [
    {
     "data": {
      "image/png": "[encoded data removed]",
      "text/plain": [
       "<Figure size 432x288 with 1 Axes>"
      ]
     },
     "metadata": {
      "needs_background": "light"
     },
     "output_type": "display_data"
    }
   ],
   "source": [
    "corr_nbp = corr.nb_patient.sort_values(ascending=False)\n",
    "corr_nbp.plot(kind='bar', color='blue')\n",
    "plt.xlabel('Correlation nbp')\n",
    "plt.ylabel('')\n",
    "plt.xticks(rotation=90)\n",
    "plt.legend([])\n",
    "plt.show()"
   ]
  },
  {
   "cell_type": "code",
   "execution_count": 13,
   "metadata": {},
   "outputs": [
    {
     "data": {
      "image/png": "[encoded data removed]",
      "text/plain": [
       "<Figure size 432x288 with 1 Axes>"
      ]
     },
     "metadata": {
      "needs_background": "light"
     },
     "output_type": "display_data"
    }
   ],
   "source": [
    "corr_age = corr.AGE.sort_values(ascending=False)\n",
    "corr_age.plot(kind='bar', color='blue')\n",
    "plt.xlabel('Correlation age')\n",
    "plt.ylabel('')\n",
    "plt.xticks(rotation=90)\n",
    "plt.legend([])\n",
    "plt.show()"
   ]
  },
  {
   "cell_type": "code",
   "execution_count": 14,
   "metadata": {},
   "outputs": [
    {
     "data": {
      "image/png": "[encoded data removed]",
      "text/plain": [
       "<Figure size 432x288 with 1 Axes>"
      ]
     },
     "metadata": {
      "needs_background": "light"
     },
     "output_type": "display_data"
    }
   ],
   "source": [
    "corr_grv = corr.NIV_GRAV.sort_values(ascending=False)\n",
    "corr_grv.plot(kind='bar', color='blue')\n",
    "plt.xlabel('Correlation niveau gravité')\n",
    "plt.ylabel('')\n",
    "plt.xticks(rotation=90)\n",
    "plt.legend([])\n",
    "plt.show()"
   ]
  },
  {
   "cell_type": "code",
   "execution_count": 15,
   "metadata": {},
   "outputs": [
    {
     "data": {
      "image/png": "[encoded data removed]",
      "text/plain": [
       "<Figure size 432x288 with 1 Axes>"
      ]
     },
     "metadata": {
      "needs_background": "light"
     },
     "output_type": "display_data"
    }
   ],
   "source": [
    "corr_sej = corr.DUREE_SEJOUR.sort_values(ascending=False)\n",
    "corr_sej.plot(kind='bar', color='blue')\n",
    "plt.xlabel('Correlation durée sejour')\n",
    "plt.ylabel('')\n",
    "plt.xticks(rotation=90)\n",
    "plt.legend([])\n",
    "plt.show()"
   ]
  },
  {
   "cell_type": "code",
   "execution_count": 16,
   "metadata": {},
   "outputs": [
    {
     "data": {
      "image/png": "[encoded data removed]",
      "text/plain": [
       "<Figure size 432x288 with 1 Axes>"
      ]
     },
     "metadata": {
      "needs_background": "light"
     },
     "output_type": "display_data"
    }
   ],
   "source": [
    "plt.scatter(x=data_tot[\"temp_moy\"], y=data_tot[\"nb_patient\"])\n",
    "plt.xlabel('Temperature')\n",
    "plt.ylabel('Nombre patients')\n",
    "plt.title(\"Nombre patients vs Temperature\")\n",
    "plt.show()"
   ]
  },
  {
   "cell_type": "code",
   "execution_count": 17,
   "metadata": {},
   "outputs": [
    {
     "data": {
      "image/png": "[encoded data removed]",
      "text/plain": [
       "<Figure size 432x288 with 1 Axes>"
      ]
     },
     "metadata": {
      "needs_background": "light"
     },
     "output_type": "display_data"
    }
   ],
   "source": [
    "plt.scatter(x=data_tot[\"pluie_moy\"], y=data_tot[\"nb_patient\"])\n",
    "plt.xlabel('Pluie')\n",
    "plt.ylabel('Nombre patients')\n",
    "plt.title(\"Nombre patients vs Pluie\")\n",
    "plt.show()"
   ]
  },
  {
   "cell_type": "code",
   "execution_count": 18,
   "metadata": {},
   "outputs": [
    {
     "data": {
      "image/png": "[encoded data removed]",
      "text/plain": [
       "<Figure size 432x288 with 1 Axes>"
      ]
     },
     "metadata": {
      "needs_background": "light"
     },
     "output_type": "display_data"
    }
   ],
   "source": [
    "plt.scatter(x=data_tot[\"humid_moy\"], y=data_tot[\"nb_patient\"])\n",
    "plt.xlabel('Humidité')\n",
    "plt.ylabel('Nombre patients')\n",
    "plt.title(\"Nombre patients vs Humidité\")\n",
    "plt.show()"
   ]
  },
  {
   "cell_type": "code",
   "execution_count": 19,
   "metadata": {},
   "outputs": [
    {
     "data": {
      "image/png": "[encoded data removed]",
      "text/plain": [
       "<Figure size 432x288 with 1 Axes>"
      ]
     },
     "metadata": {
      "needs_background": "light"
     },
     "output_type": "display_data"
    }
   ],
   "source": [
    "plt.scatter(x=data_tot[\"press_moy\"], y=data_tot[\"nb_patient\"])\n",
    "plt.xlabel('Pression')\n",
    "plt.ylabel('Nombre patients')\n",
    "plt.title(\"Nombre patients vs Pression\")\n",
    "plt.show()"
   ]
  },
  {
   "cell_type": "code",
   "execution_count": 20,
   "metadata": {},
   "outputs": [
    {
     "data": {
      "image/png": "[encoded data removed]",
      "text/plain": [
       "<Figure size 432x288 with 1 Axes>"
      ]
     },
     "metadata": {
      "needs_background": "light"
     },
     "output_type": "display_data"
    }
   ],
   "source": [
    "plt.scatter(x=data_tot[\"vent_moy\"], y=data_tot[\"nb_patient\"])\n",
    "plt.xlabel('Vent')\n",
    "plt.ylabel('Nombre patients')\n",
    "plt.title(\"Nombre patients vs Vent\")\n",
    "plt.show()"
   ]
  },
  {
   "cell_type": "code",
   "execution_count": 21,
   "metadata": {},
   "outputs": [
    {
     "data": {
      "image/png": "[encoded data removed]",
      "text/plain": [
       "<Figure size 432x288 with 1 Axes>"
      ]
     },
     "metadata": {
      "needs_background": "light"
     },
     "output_type": "display_data"
    }
   ],
   "source": [
    "x=data_tot[\"date\"][::30]\n",
    "y=data_tot[\"nb_patient\"][::30]\n",
    "plt.plot(x, y)\n",
    "plt.xlabel('Date')\n",
    "plt.xticks(rotation=90)\n",
    "plt.ylabel('Nombre patients')\n",
    "plt.title(\"Nombre patients vs Date\")\n",
    "plt.show()"
   ]
  },
  {
   "cell_type": "markdown",
   "metadata": {},
   "source": [
    "#### création d'un dataframe pour chaque modèle"
   ]
  },
  {
   "cell_type": "code",
   "execution_count": 22,
   "metadata": {},
   "outputs": [],
   "source": [
    "df1_nbp = pd.DataFrame(columns = ['no2_moy_J-1' , 'no2_moy_J-2', 'no2_moy_J-3','pm10_moy_J-1' , 'pm10_moy_J-2', 'pm10_moy_J-3','pm25_moy_J-1','pm25_moy_J-2','pm25_moy_J-3','temp_moy_J-1','temp_moy_J-2','temp_moy_J-3','pluie_moy_J-1','pluie_moy_J-2','pluie_moy_J-3','humid_moy_J-1','humid_moy_J-2','humid_moy_J-3','press_moy_J-1','press_moy_J-2','press_moy_J-3','vent_moy_J-1','vent_moy_J-2','vent_moy_J-3','nb_patients_J-0'])\n",
    "df2_nbp = pd.DataFrame(columns = ['no2_moy_J-1' , 'no2_moy_J-2', 'no2_moy_J-3','pm10_moy_J-1' , 'pm10_moy_J-2', 'pm10_moy_J-3','pm25_moy_J-1','pm25_moy_J-2','pm25_moy_J-3','temp_moy_J-1','temp_moy_J-2','temp_moy_J-3','pluie_moy_J-1','pluie_moy_J-2','pluie_moy_J-3','humid_moy_J-1','humid_moy_J-2','humid_moy_J-3','press_moy_J-1','press_moy_J-2','press_moy_J-3','vent_moy_J-1','vent_moy_J-2','vent_moy_J-3','nb_patients_J+1'])\n",
    "df3_nbp = pd.DataFrame(columns = ['no2_moy_J-1' , 'no2_moy_J-2', 'no2_moy_J-3','pm10_moy_J-1' , 'pm10_moy_J-2', 'pm10_moy_J-3','pm25_moy_J-1','pm25_moy_J-2','pm25_moy_J-3','temp_moy_J-1','temp_moy_J-2','temp_moy_J-3','pluie_moy_J-1','pluie_moy_J-2','pluie_moy_J-3','humid_moy_J-1','humid_moy_J-2','humid_moy_J-3','press_moy_J-1','press_moy_J-2','press_moy_J-3','vent_moy_J-1','vent_moy_J-2','vent_moy_J-3','nb_patients_J+2'])\n",
    "\n",
    "df1_age = pd.DataFrame(columns = ['no2_moy_J-1' , 'no2_moy_J-2', 'no2_moy_J-3','pm10_moy_J-1' , 'pm10_moy_J-2', 'pm10_moy_J-3','pm25_moy_J-1','pm25_moy_J-2','pm25_moy_J-3','temp_moy_J-1','temp_moy_J-2','temp_moy_J-3','pluie_moy_J-1','pluie_moy_J-2','pluie_moy_J-3','humid_moy_J-1','humid_moy_J-2','humid_moy_J-3','press_moy_J-1','press_moy_J-2','press_moy_J-3','vent_moy_J-1','vent_moy_J-2','vent_moy_J-3','AGE_J-0'])\n",
    "df2_age = pd.DataFrame(columns = ['no2_moy_J-1' , 'no2_moy_J-2', 'no2_moy_J-3','pm10_moy_J-1' , 'pm10_moy_J-2', 'pm10_moy_J-3','pm25_moy_J-1','pm25_moy_J-2','pm25_moy_J-3','temp_moy_J-1','temp_moy_J-2','temp_moy_J-3','pluie_moy_J-1','pluie_moy_J-2','pluie_moy_J-3','humid_moy_J-1','humid_moy_J-2','humid_moy_J-3','press_moy_J-1','press_moy_J-2','press_moy_J-3','vent_moy_J-1','vent_moy_J-2','vent_moy_J-3','AGE_J+1'])\n",
    "df3_age = pd.DataFrame(columns = ['no2_moy_J-1' , 'no2_moy_J-2', 'no2_moy_J-3','pm10_moy_J-1' , 'pm10_moy_J-2', 'pm10_moy_J-3','pm25_moy_J-1','pm25_moy_J-2','pm25_moy_J-3','temp_moy_J-1','temp_moy_J-2','temp_moy_J-3','pluie_moy_J-1','pluie_moy_J-2','pluie_moy_J-3','humid_moy_J-1','humid_moy_J-2','humid_moy_J-3','press_moy_J-1','press_moy_J-2','press_moy_J-3','vent_moy_J-1','vent_moy_J-2','vent_moy_J-3','AGE_J+2'])\n",
    "\n",
    "df1_grv = pd.DataFrame(columns = ['no2_moy_J-1' , 'no2_moy_J-2', 'no2_moy_J-3','pm10_moy_J-1' , 'pm10_moy_J-2', 'pm10_moy_J-3','pm25_moy_J-1','pm25_moy_J-2','pm25_moy_J-3','temp_moy_J-1','temp_moy_J-2','temp_moy_J-3','pluie_moy_J-1','pluie_moy_J-2','pluie_moy_J-3','humid_moy_J-1','humid_moy_J-2','humid_moy_J-3','press_moy_J-1','press_moy_J-2','press_moy_J-3','vent_moy_J-1','vent_moy_J-2','vent_moy_J-3','GRV_J-0'])\n",
    "df2_grv = pd.DataFrame(columns = ['no2_moy_J-1' , 'no2_moy_J-2', 'no2_moy_J-3','pm10_moy_J-1' , 'pm10_moy_J-2', 'pm10_moy_J-3','pm25_moy_J-1','pm25_moy_J-2','pm25_moy_J-3','temp_moy_J-1','temp_moy_J-2','temp_moy_J-3','pluie_moy_J-1','pluie_moy_J-2','pluie_moy_J-3','humid_moy_J-1','humid_moy_J-2','humid_moy_J-3','press_moy_J-1','press_moy_J-2','press_moy_J-3','vent_moy_J-1','vent_moy_J-2','vent_moy_J-3','GRV_J+1'])\n",
    "df3_grv = pd.DataFrame(columns = ['no2_moy_J-1' , 'no2_moy_J-2', 'no2_moy_J-3','pm10_moy_J-1' , 'pm10_moy_J-2', 'pm10_moy_J-3','pm25_moy_J-1','pm25_moy_J-2','pm25_moy_J-3','temp_moy_J-1','temp_moy_J-2','temp_moy_J-3','pluie_moy_J-1','pluie_moy_J-2','pluie_moy_J-3','humid_moy_J-1','humid_moy_J-2','humid_moy_J-3','press_moy_J-1','press_moy_J-2','press_moy_J-3','vent_moy_J-1','vent_moy_J-2','vent_moy_J-3','GRV_J+2'])\n",
    "\n",
    "df1_sej = pd.DataFrame(columns = ['no2_moy_J-1' , 'no2_moy_J-2', 'no2_moy_J-3','pm10_moy_J-1' , 'pm10_moy_J-2', 'pm10_moy_J-3','pm25_moy_J-1','pm25_moy_J-2','pm25_moy_J-3','temp_moy_J-1','temp_moy_J-2','temp_moy_J-3','pluie_moy_J-1','pluie_moy_J-2','pluie_moy_J-3','humid_moy_J-1','humid_moy_J-2','humid_moy_J-3','press_moy_J-1','press_moy_J-2','press_moy_J-3','vent_moy_J-1','vent_moy_J-2','vent_moy_J-3','SEJ_J-0'])\n",
    "df2_sej = pd.DataFrame(columns = ['no2_moy_J-1' , 'no2_moy_J-2', 'no2_moy_J-3','pm10_moy_J-1' , 'pm10_moy_J-2', 'pm10_moy_J-3','pm25_moy_J-1','pm25_moy_J-2','pm25_moy_J-3','temp_moy_J-1','temp_moy_J-2','temp_moy_J-3','pluie_moy_J-1','pluie_moy_J-2','pluie_moy_J-3','humid_moy_J-1','humid_moy_J-2','humid_moy_J-3','press_moy_J-1','press_moy_J-2','press_moy_J-3','vent_moy_J-1','vent_moy_J-2','vent_moy_J-3','SEJ_J+1'])\n",
    "df3_sej = pd.DataFrame(columns = ['no2_moy_J-1' , 'no2_moy_J-2', 'no2_moy_J-3','pm10_moy_J-1' , 'pm10_moy_J-2', 'pm10_moy_J-3','pm25_moy_J-1','pm25_moy_J-2','pm25_moy_J-3','temp_moy_J-1','temp_moy_J-2','temp_moy_J-3','pluie_moy_J-1','pluie_moy_J-2','pluie_moy_J-3','humid_moy_J-1','humid_moy_J-2','humid_moy_J-3','press_moy_J-1','press_moy_J-2','press_moy_J-3','vent_moy_J-1','vent_moy_J-2','vent_moy_J-3','SEJ_J+2'])\n",
    "\n"
   ]
  },
  {
   "cell_type": "code",
   "execution_count": 23,
   "metadata": {},
   "outputs": [
    {
     "data": {
      "text/html": [
       "<div>\n",
       "<style scoped>\n",
       "    .dataframe tbody tr th:only-of-type {\n",
       "        vertical-align: middle;\n",
       "    }\n",
       "\n",
       "    .dataframe tbody tr th {\n",
       "        vertical-align: top;\n",
       "    }\n",
       "\n",
       "    .dataframe thead th {\n",
       "        text-align: right;\n",
       "    }\n",
       "</style>\n",
       "<table border=\"1\" class=\"dataframe\">\n",
       "  <thead>\n",
       "    <tr style=\"text-align: right;\">\n",
       "      <th></th>\n",
       "      <th>no2_moy_J-1</th>\n",
       "      <th>no2_moy_J-2</th>\n",
       "      <th>no2_moy_J-3</th>\n",
       "      <th>pm10_moy_J-1</th>\n",
       "      <th>pm10_moy_J-2</th>\n",
       "      <th>pm10_moy_J-3</th>\n",
       "      <th>pm25_moy_J-1</th>\n",
       "      <th>pm25_moy_J-2</th>\n",
       "      <th>pm25_moy_J-3</th>\n",
       "      <th>temp_moy_J-1</th>\n",
       "      <th>...</th>\n",
       "      <th>humid_moy_J-1</th>\n",
       "      <th>humid_moy_J-2</th>\n",
       "      <th>humid_moy_J-3</th>\n",
       "      <th>press_moy_J-1</th>\n",
       "      <th>press_moy_J-2</th>\n",
       "      <th>press_moy_J-3</th>\n",
       "      <th>vent_moy_J-1</th>\n",
       "      <th>vent_moy_J-2</th>\n",
       "      <th>vent_moy_J-3</th>\n",
       "      <th>nb_patients_J-0</th>\n",
       "    </tr>\n",
       "  </thead>\n",
       "  <tbody>\n",
       "  </tbody>\n",
       "</table>\n",
       "<p>0 rows × 25 columns</p>\n",
       "</div>"
      ],
      "text/plain": [
       "Empty DataFrame\n",
       "Columns: [no2_moy_J-1, no2_moy_J-2, no2_moy_J-3, pm10_moy_J-1, pm10_moy_J-2, pm10_moy_J-3, pm25_moy_J-1, pm25_moy_J-2, pm25_moy_J-3, temp_moy_J-1, temp_moy_J-2, temp_moy_J-3, pluie_moy_J-1, pluie_moy_J-2, pluie_moy_J-3, humid_moy_J-1, humid_moy_J-2, humid_moy_J-3, press_moy_J-1, press_moy_J-2, press_moy_J-3, vent_moy_J-1, vent_moy_J-2, vent_moy_J-3, nb_patients_J-0]\n",
       "Index: []\n",
       "\n",
       "[0 rows x 25 columns]"
      ]
     },
     "execution_count": 23,
     "metadata": {},
     "output_type": "execute_result"
    }
   ],
   "source": [
    "df1_nbp"
   ]
  },
  {
   "cell_type": "markdown",
   "metadata": {},
   "source": [
    "#### Remplissage des dataframe avec des valeurs adéquats"
   ]
  },
  {
   "cell_type": "code",
   "execution_count": 24,
   "metadata": {},
   "outputs": [],
   "source": [
    "for i in range (len(data_tot)-4) :\n",
    "    df1_nbp.loc[i]=[data_tot.no2_moy[i+2], data_tot.no2_moy[i+1], data_tot.no2_moy[i], data_tot.pm10_moy[i+2],data_tot.pm10_moy[i+1],data_tot.pm10_moy[i],data_tot.pm25_moy[i+2],data_tot.pm25_moy[i+1],data_tot.pm25_moy[i],data_tot.temp_moy[i+2],data_tot.temp_moy[i+1],data_tot.temp_moy[i],data_tot.pluie_moy[i+2],data_tot.pluie_moy[i+1],data_tot.pluie_moy[i],data_tot.humid_moy[i+2],data_tot.humid_moy[i+1],data_tot.humid_moy[i],data_tot.press_moy[i+2],data_tot.press_moy[i+1],data_tot.press_moy[i],data_tot.vent_moy[i+2],data_tot.vent_moy[i+1],data_tot.vent_moy[i],data_tot.nb_patient[i+4]]\n",
    "for i in range (len(data_tot)-5) :\n",
    "    df2_nbp.loc[i]=[data_tot.no2_moy[i+2], data_tot.no2_moy[i+1], data_tot.no2_moy[i], data_tot.pm10_moy[i+2],data_tot.pm10_moy[i+1],data_tot.pm10_moy[i],data_tot.pm25_moy[i+2],data_tot.pm25_moy[i+1],data_tot.pm25_moy[i],data_tot.temp_moy[i+2],data_tot.temp_moy[i+1],data_tot.temp_moy[i],data_tot.pluie_moy[i+2],data_tot.pluie_moy[i+1],data_tot.pluie_moy[i],data_tot.humid_moy[i+2],data_tot.humid_moy[i+1],data_tot.humid_moy[i],data_tot.press_moy[i+2],data_tot.press_moy[i+1],data_tot.press_moy[i],data_tot.vent_moy[i+2],data_tot.vent_moy[i+1],data_tot.vent_moy[i],data_tot.nb_patient[i+5]]\n",
    "for i in range (len(data_tot)-6) :\n",
    "    df3_nbp.loc[i]=[data_tot.no2_moy[i+2], data_tot.no2_moy[i+1], data_tot.no2_moy[i], data_tot.pm10_moy[i+2],data_tot.pm10_moy[i+1],data_tot.pm10_moy[i],data_tot.pm25_moy[i+2],data_tot.pm25_moy[i+1],data_tot.pm25_moy[i],data_tot.temp_moy[i+2],data_tot.temp_moy[i+1],data_tot.temp_moy[i],data_tot.pluie_moy[i+2],data_tot.pluie_moy[i+1],data_tot.pluie_moy[i],data_tot.humid_moy[i+2],data_tot.humid_moy[i+1],data_tot.humid_moy[i],data_tot.press_moy[i+2],data_tot.press_moy[i+1],data_tot.press_moy[i],data_tot.vent_moy[i+2],data_tot.vent_moy[i+1],data_tot.vent_moy[i],data_tot.nb_patient[i+6]]\n",
    "   \n",
    "for i in range (len(data_tot)-4) :\n",
    "    df1_age.loc[i]=[data_tot.no2_moy[i+2], data_tot.no2_moy[i+1], data_tot.no2_moy[i], data_tot.pm10_moy[i+2],data_tot.pm10_moy[i+1],data_tot.pm10_moy[i],data_tot.pm25_moy[i+2],data_tot.pm25_moy[i+1],data_tot.pm25_moy[i],data_tot.temp_moy[i+2],data_tot.temp_moy[i+1],data_tot.temp_moy[i],data_tot.pluie_moy[i+2],data_tot.pluie_moy[i+1],data_tot.pluie_moy[i],data_tot.humid_moy[i+2],data_tot.humid_moy[i+1],data_tot.humid_moy[i],data_tot.press_moy[i+2],data_tot.press_moy[i+1],data_tot.press_moy[i],data_tot.vent_moy[i+2],data_tot.vent_moy[i+1],data_tot.vent_moy[i],data_tot.AGE[i+4]]\n",
    "for i in range (len(data_tot)-5) :\n",
    "    df2_age.loc[i]=[data_tot.no2_moy[i+2], data_tot.no2_moy[i+1], data_tot.no2_moy[i], data_tot.pm10_moy[i+2],data_tot.pm10_moy[i+1],data_tot.pm10_moy[i],data_tot.pm25_moy[i+2],data_tot.pm25_moy[i+1],data_tot.pm25_moy[i],data_tot.temp_moy[i+2],data_tot.temp_moy[i+1],data_tot.temp_moy[i],data_tot.pluie_moy[i+2],data_tot.pluie_moy[i+1],data_tot.pluie_moy[i],data_tot.humid_moy[i+2],data_tot.humid_moy[i+1],data_tot.humid_moy[i],data_tot.press_moy[i+2],data_tot.press_moy[i+1],data_tot.press_moy[i],data_tot.vent_moy[i+2],data_tot.vent_moy[i+1],data_tot.vent_moy[i],data_tot.AGE[i+5]]\n",
    "for i in range (len(data_tot)-6) :\n",
    "    df3_age.loc[i]=[data_tot.no2_moy[i+2], data_tot.no2_moy[i+1], data_tot.no2_moy[i], data_tot.pm10_moy[i+2],data_tot.pm10_moy[i+1],data_tot.pm10_moy[i],data_tot.pm25_moy[i+2],data_tot.pm25_moy[i+1],data_tot.pm25_moy[i],data_tot.temp_moy[i+2],data_tot.temp_moy[i+1],data_tot.temp_moy[i],data_tot.pluie_moy[i+2],data_tot.pluie_moy[i+1],data_tot.pluie_moy[i],data_tot.humid_moy[i+2],data_tot.humid_moy[i+1],data_tot.humid_moy[i],data_tot.press_moy[i+2],data_tot.press_moy[i+1],data_tot.press_moy[i],data_tot.vent_moy[i+2],data_tot.vent_moy[i+1],data_tot.vent_moy[i],data_tot.AGE[i+6]]\n",
    "    \n",
    "for i in range (len(data_tot)-4) :\n",
    "    df1_grv.loc[i]=[data_tot.no2_moy[i+2], data_tot.no2_moy[i+1], data_tot.no2_moy[i], data_tot.pm10_moy[i+2],data_tot.pm10_moy[i+1],data_tot.pm10_moy[i],data_tot.pm25_moy[i+2],data_tot.pm25_moy[i+1],data_tot.pm25_moy[i],data_tot.temp_moy[i+2],data_tot.temp_moy[i+1],data_tot.temp_moy[i],data_tot.pluie_moy[i+2],data_tot.pluie_moy[i+1],data_tot.pluie_moy[i],data_tot.humid_moy[i+2],data_tot.humid_moy[i+1],data_tot.humid_moy[i],data_tot.press_moy[i+2],data_tot.press_moy[i+1],data_tot.press_moy[i],data_tot.vent_moy[i+2],data_tot.vent_moy[i+1],data_tot.vent_moy[i],data_tot.NIV_GRAV[i+4]]\n",
    "for i in range (len(data_tot)-5) :\n",
    "    df2_grv.loc[i]=[data_tot.no2_moy[i+2], data_tot.no2_moy[i+1], data_tot.no2_moy[i], data_tot.pm10_moy[i+2],data_tot.pm10_moy[i+1],data_tot.pm10_moy[i],data_tot.pm25_moy[i+2],data_tot.pm25_moy[i+1],data_tot.pm25_moy[i],data_tot.temp_moy[i+2],data_tot.temp_moy[i+1],data_tot.temp_moy[i],data_tot.pluie_moy[i+2],data_tot.pluie_moy[i+1],data_tot.pluie_moy[i],data_tot.humid_moy[i+2],data_tot.humid_moy[i+1],data_tot.humid_moy[i],data_tot.press_moy[i+2],data_tot.press_moy[i+1],data_tot.press_moy[i],data_tot.vent_moy[i+2],data_tot.vent_moy[i+1],data_tot.vent_moy[i],data_tot.NIV_GRAV[i+5]]\n",
    "for i in range (len(data_tot)-6) :\n",
    "    df3_grv.loc[i]=[data_tot.no2_moy[i+2], data_tot.no2_moy[i+1], data_tot.no2_moy[i], data_tot.pm10_moy[i+2],data_tot.pm10_moy[i+1],data_tot.pm10_moy[i],data_tot.pm25_moy[i+2],data_tot.pm25_moy[i+1],data_tot.pm25_moy[i],data_tot.temp_moy[i+2],data_tot.temp_moy[i+1],data_tot.temp_moy[i],data_tot.pluie_moy[i+2],data_tot.pluie_moy[i+1],data_tot.pluie_moy[i],data_tot.humid_moy[i+2],data_tot.humid_moy[i+1],data_tot.humid_moy[i],data_tot.press_moy[i+2],data_tot.press_moy[i+1],data_tot.press_moy[i],data_tot.vent_moy[i+2],data_tot.vent_moy[i+1],data_tot.vent_moy[i],data_tot.NIV_GRAV[i+6]]\n",
    "    \n",
    "for i in range (len(data_tot)-4) :\n",
    "    df1_sej.loc[i]=[data_tot.no2_moy[i+2], data_tot.no2_moy[i+1], data_tot.no2_moy[i], data_tot.pm10_moy[i+2],data_tot.pm10_moy[i+1],data_tot.pm10_moy[i],data_tot.pm25_moy[i+2],data_tot.pm25_moy[i+1],data_tot.pm25_moy[i],data_tot.temp_moy[i+2],data_tot.temp_moy[i+1],data_tot.temp_moy[i],data_tot.pluie_moy[i+2],data_tot.pluie_moy[i+1],data_tot.pluie_moy[i],data_tot.humid_moy[i+2],data_tot.humid_moy[i+1],data_tot.humid_moy[i],data_tot.press_moy[i+2],data_tot.press_moy[i+1],data_tot.press_moy[i],data_tot.vent_moy[i+2],data_tot.vent_moy[i+1],data_tot.vent_moy[i],data_tot.DUREE_SEJOUR[i+4]]\n",
    "for i in range (len(data_tot)-5) :\n",
    "    df2_sej.loc[i]=[data_tot.no2_moy[i+2], data_tot.no2_moy[i+1], data_tot.no2_moy[i], data_tot.pm10_moy[i+2],data_tot.pm10_moy[i+1],data_tot.pm10_moy[i],data_tot.pm25_moy[i+2],data_tot.pm25_moy[i+1],data_tot.pm25_moy[i],data_tot.temp_moy[i+2],data_tot.temp_moy[i+1],data_tot.temp_moy[i],data_tot.pluie_moy[i+2],data_tot.pluie_moy[i+1],data_tot.pluie_moy[i],data_tot.humid_moy[i+2],data_tot.humid_moy[i+1],data_tot.humid_moy[i],data_tot.press_moy[i+2],data_tot.press_moy[i+1],data_tot.press_moy[i],data_tot.vent_moy[i+2],data_tot.vent_moy[i+1],data_tot.vent_moy[i],data_tot.DUREE_SEJOUR[i+5]]\n",
    "for i in range (len(data_tot)-6) :\n",
    "    df3_sej.loc[i]=[data_tot.no2_moy[i+2], data_tot.no2_moy[i+1], data_tot.no2_moy[i], data_tot.pm10_moy[i+2],data_tot.pm10_moy[i+1],data_tot.pm10_moy[i],data_tot.pm25_moy[i+2],data_tot.pm25_moy[i+1],data_tot.pm25_moy[i],data_tot.temp_moy[i+2],data_tot.temp_moy[i+1],data_tot.temp_moy[i],data_tot.pluie_moy[i+2],data_tot.pluie_moy[i+1],data_tot.pluie_moy[i],data_tot.humid_moy[i+2],data_tot.humid_moy[i+1],data_tot.humid_moy[i],data_tot.press_moy[i+2],data_tot.press_moy[i+1],data_tot.press_moy[i],data_tot.vent_moy[i+2],data_tot.vent_moy[i+1],data_tot.vent_moy[i],data_tot.DUREE_SEJOUR[i+6]]"
   ]
  },
  {
   "cell_type": "markdown",
   "metadata": {},
   "source": [
    "#### Gestion des \"NaN\""
   ]
  },
  {
   "cell_type": "code",
   "execution_count": 25,
   "metadata": {},
   "outputs": [],
   "source": [
    "df1_nbp = df1_nbp.fillna(method='ffill')\n",
    "df2_nbp = df2_nbp.fillna(method='ffill')\n",
    "df3_nbp = df3_nbp.fillna(method='ffill')\n",
    "\n",
    "df1_age = df1_age.fillna(method='ffill')\n",
    "df2_age = df2_age.fillna(method='ffill')\n",
    "df3_age = df3_age.fillna(method='ffill')\n",
    "\n",
    "df1_grv = df1_grv.fillna(method='ffill')\n",
    "df2_grv = df2_grv.fillna(method='ffill')\n",
    "df3_grv = df3_grv.fillna(method='ffill')\n",
    "\n",
    "df1_sej = df1_sej.fillna(method='ffill')\n",
    "df2_sej = df2_sej.fillna(method='ffill')\n",
    "df3_sej = df3_sej.fillna(method='ffill')"
   ]
  },
  {
   "cell_type": "markdown",
   "metadata": {},
   "source": [
    "#### récupération des features/target pour chaque modèle"
   ]
  },
  {
   "cell_type": "code",
   "execution_count": 26,
   "metadata": {},
   "outputs": [],
   "source": [
    "X1_nbp = df1_nbp.drop(columns='nb_patients_J-0') \n",
    "y1_nbp = df1_nbp[\"nb_patients_J-0\"]\n",
    "\n",
    "X2_nbp = df2_nbp.drop(columns='nb_patients_J+1') \n",
    "y2_nbp = df2_nbp[\"nb_patients_J+1\"]\n",
    "\n",
    "X3_nbp = df3_nbp.drop(columns='nb_patients_J+2') \n",
    "y3_nbp = df3_nbp[\"nb_patients_J+2\"]\n",
    "\n",
    "################################################\n",
    "\n",
    "X1_age = df1_age.drop(columns='AGE_J-0') \n",
    "y1_age = df1_age[\"AGE_J-0\"]\n",
    "\n",
    "X2_age = df2_age.drop(columns='AGE_J+1') \n",
    "y2_age = df2_age[\"AGE_J+1\"]\n",
    "\n",
    "X3_age = df3_age.drop(columns='AGE_J+2') \n",
    "y3_age = df3_age[\"AGE_J+2\"]\n",
    "\n",
    "################################################\n",
    "\n",
    "X1_grv = df1_grv.drop(columns='GRV_J-0') \n",
    "y1_grv = df1_grv[\"GRV_J-0\"]\n",
    "\n",
    "X2_grv = df2_grv.drop(columns='GRV_J+1') \n",
    "y2_grv = df2_grv[\"GRV_J+1\"]\n",
    "\n",
    "X3_grv = df3_grv.drop(columns='GRV_J+2') \n",
    "y3_grv = df3_grv[\"GRV_J+2\"]\n",
    "\n",
    "################################################\n",
    "\n",
    "X1_sej = df1_sej.drop(columns='SEJ_J-0') \n",
    "y1_sej = df1_sej[\"SEJ_J-0\"]\n",
    "\n",
    "X2_sej = df2_sej.drop(columns='SEJ_J+1') \n",
    "y2_sej = df2_sej[\"SEJ_J+1\"]\n",
    "\n",
    "X3_sej = df3_sej.drop(columns='SEJ_J+2') \n",
    "y3_sej = df3_sej[\"SEJ_J+2\"]"
   ]
  },
  {
   "cell_type": "markdown",
   "metadata": {},
   "source": [
    "#### Séparation des données pour chaque dataframe"
   ]
  },
  {
   "cell_type": "code",
   "execution_count": 27,
   "metadata": {},
   "outputs": [],
   "source": [
    "# Import train_test_split\n",
    "from sklearn.model_selection import train_test_split \n",
    "\n",
    "# Split data into 80% train and 20% test\n",
    "X_train1_nbp, X_test1_nbp, y_train1_nbp, y_test1_nbp = train_test_split(X1_nbp, y1_nbp,test_size=0.2, random_state=3)\n",
    "X_train2_nbp, X_test2_nbp, y_train2_nbp, y_test2_nbp = train_test_split(X2_nbp, y2_nbp,test_size=0.2, random_state=3)\n",
    "X_train3_nbp, X_test3_nbp, y_train3_nbp, y_test3_nbp = train_test_split(X3_nbp, y3_nbp,test_size=0.2, random_state=3)\n",
    "\n",
    "X_train1_age, X_test1_age, y_train1_age, y_test1_age = train_test_split(X1_age, y1_age,test_size=0.2, random_state=3)\n",
    "X_train2_age, X_test2_age, y_train2_age, y_test2_age = train_test_split(X2_age, y2_age,test_size=0.2, random_state=3)\n",
    "X_train3_age, X_test3_age, y_train3_age, y_test3_age = train_test_split(X3_age, y3_age,test_size=0.2, random_state=3)\n",
    "\n",
    "X_train1_grv, X_test1_grv, y_train1_grv, y_test1_grv = train_test_split(X1_grv, y1_grv,test_size=0.2, random_state=3)\n",
    "X_train2_grv, X_test2_grv, y_train2_grv, y_test2_grv = train_test_split(X2_grv, y2_grv,test_size=0.2, random_state=3)\n",
    "X_train3_grv, X_test3_grv, y_train3_grv, y_test3_grv = train_test_split(X3_grv, y3_grv,test_size=0.2, random_state=3)\n",
    "\n",
    "X_train1_sej, X_test1_sej, y_train1_sej, y_test1_sej = train_test_split(X1_sej, y1_sej,test_size=0.2, random_state=3)\n",
    "X_train2_sej, X_test2_sej, y_train2_sej, y_test2_sej = train_test_split(X2_sej, y2_sej,test_size=0.2, random_state=3)\n",
    "X_train3_sej, X_test3_sej, y_train3_sej, y_test3_sej = train_test_split(X3_sej, y3_sej,test_size=0.2, random_state=3)"
   ]
  },
  {
   "cell_type": "markdown",
   "metadata": {},
   "source": [
    "#### DecisionTreeRegressor"
   ]
  },
  {
   "cell_type": "code",
   "execution_count": 28,
   "metadata": {},
   "outputs": [],
   "source": [
    "# Import DecisionTreeRegressor\n",
    "from sklearn.tree import DecisionTreeRegressor \n",
    "\n",
    "# Instantiate a DecisionTreeRegressor 'dt' \n",
    "dt1_nbp = DecisionTreeRegressor(max_depth=4,min_samples_leaf=0.1, random_state=3)\n",
    "dt2_nbp = DecisionTreeRegressor(max_depth=4,min_samples_leaf=0.1, random_state=3)\n",
    "dt3_nbp = DecisionTreeRegressor(max_depth=4,min_samples_leaf=0.1, random_state=3)\n",
    "\n",
    "dt1_age = DecisionTreeRegressor(max_depth=4,min_samples_leaf=0.1, random_state=3)\n",
    "dt2_age = DecisionTreeRegressor(max_depth=4,min_samples_leaf=0.1, random_state=3)\n",
    "dt3_age = DecisionTreeRegressor(max_depth=4,min_samples_leaf=0.1, random_state=3)\n",
    "\n",
    "dt1_grv = DecisionTreeRegressor(max_depth=4,min_samples_leaf=0.1, random_state=3)\n",
    "dt2_grv = DecisionTreeRegressor(max_depth=4,min_samples_leaf=0.1, random_state=3)\n",
    "dt3_grv = DecisionTreeRegressor(max_depth=4,min_samples_leaf=0.1, random_state=3)\n",
    "\n",
    "dt1_sej = DecisionTreeRegressor(max_depth=4,min_samples_leaf=0.1, random_state=3)\n",
    "dt2_sej = DecisionTreeRegressor(max_depth=4,min_samples_leaf=0.1, random_state=3)\n",
    "dt3_sej = DecisionTreeRegressor(max_depth=4,min_samples_leaf=0.1, random_state=3)"
   ]
  },
  {
   "cell_type": "markdown",
   "metadata": {},
   "source": [
    "#### Linear modèle : Linear Regression"
   ]
  },
  {
   "cell_type": "code",
   "execution_count": 29,
   "metadata": {},
   "outputs": [],
   "source": [
    "# Import Linear Model\n",
    "from sklearn import linear_model\n",
    "\n",
    "# Instantiate a Linear Regression 'lr' \n",
    "lr1_nbp = linear_model.LinearRegression()\n",
    "lr2_nbp = linear_model.LinearRegression()\n",
    "lr3_nbp = linear_model.LinearRegression()\n",
    "\n",
    "lr1_age = linear_model.LinearRegression()\n",
    "lr2_age = linear_model.LinearRegression()\n",
    "lr3_age = linear_model.LinearRegression()\n",
    "\n",
    "lr1_grv = linear_model.LinearRegression()\n",
    "lr2_grv = linear_model.LinearRegression()\n",
    "lr3_grv = linear_model.LinearRegression()\n",
    "\n",
    "lr1_sej = linear_model.LinearRegression()\n",
    "lr2_sej = linear_model.LinearRegression()\n",
    "lr3_sej = linear_model.LinearRegression()"
   ]
  },
  {
   "cell_type": "markdown",
   "metadata": {},
   "source": [
    "#### Linear modèle : Lasso"
   ]
  },
  {
   "cell_type": "code",
   "execution_count": 30,
   "metadata": {},
   "outputs": [],
   "source": [
    "# Instantiate a Lasso 'la' \n",
    "la1_nbp = linear_model.Lasso(tol=2)\n",
    "la2_nbp = linear_model.Lasso(tol=2)\n",
    "la3_nbp = linear_model.Lasso(tol=2)\n",
    "\n",
    "la1_age = linear_model.Lasso(tol=2)\n",
    "la2_age = linear_model.Lasso(tol=2)\n",
    "la3_age = linear_model.Lasso(tol=2)\n",
    "\n",
    "la1_grv = linear_model.Lasso(tol=2)\n",
    "la2_grv = linear_model.Lasso(tol=2)\n",
    "la3_grv = linear_model.Lasso(tol=2)\n",
    "\n",
    "la1_sej = linear_model.Lasso(tol=2)\n",
    "la2_sej = linear_model.Lasso(tol=2)\n",
    "la3_sej = linear_model.Lasso(tol=2)"
   ]
  },
  {
   "cell_type": "markdown",
   "metadata": {},
   "source": [
    "#### Linear modèle : ElasticNet"
   ]
  },
  {
   "cell_type": "code",
   "execution_count": 31,
   "metadata": {},
   "outputs": [],
   "source": [
    "# Instantiate a ElasticNet 'en' \n",
    "en1_nbp = linear_model.ElasticNet(l1_ratio=0.8,tol=2)\n",
    "en2_nbp = linear_model.ElasticNet(l1_ratio=0.8,tol=2)\n",
    "en3_nbp = linear_model.ElasticNet(l1_ratio=0.8,tol=2)\n",
    "\n",
    "en1_age = linear_model.ElasticNet(l1_ratio=0.8,tol=2)\n",
    "en2_age = linear_model.ElasticNet(l1_ratio=0.8,tol=2)\n",
    "en3_age = linear_model.ElasticNet(l1_ratio=0.8,tol=2)\n",
    "\n",
    "en1_grv = linear_model.ElasticNet(l1_ratio=0.8,tol=2)\n",
    "en2_grv = linear_model.ElasticNet(l1_ratio=0.8,tol=2)\n",
    "en3_grv = linear_model.ElasticNet(l1_ratio=0.8,tol=2)\n",
    "\n",
    "en1_sej = linear_model.ElasticNet(l1_ratio=0.8,tol=2)\n",
    "en2_sej = linear_model.ElasticNet(l1_ratio=0.8,tol=2)\n",
    "en3_sej = linear_model.ElasticNet(l1_ratio=0.8,tol=2)"
   ]
  },
  {
   "cell_type": "markdown",
   "metadata": {},
   "source": [
    "#### Linear modèle : ARDRegression"
   ]
  },
  {
   "cell_type": "code",
   "execution_count": 32,
   "metadata": {},
   "outputs": [],
   "source": [
    "# Instantiate a ARDRegression 'ardr' \n",
    "ardr1_nbp = linear_model.ARDRegression(lambda_1=0.5)\n",
    "ardr2_nbp = linear_model.ARDRegression(lambda_1=0.5)\n",
    "ardr3_nbp = linear_model.ARDRegression(lambda_1=0.5)\n",
    "\n",
    "ardr1_age = linear_model.ARDRegression(lambda_1=0.5)\n",
    "ardr2_age = linear_model.ARDRegression(lambda_1=0.5)\n",
    "ardr3_age = linear_model.ARDRegression(lambda_1=0.5)\n",
    "\n",
    "ardr1_grv = linear_model.ARDRegression(lambda_1=0.5)\n",
    "ardr2_grv = linear_model.ARDRegression(lambda_1=0.5)\n",
    "ardr3_grv = linear_model.ARDRegression(lambda_1=0.5)\n",
    "\n",
    "ardr1_sej = linear_model.ARDRegression(lambda_1=0.5)\n",
    "ardr2_sej = linear_model.ARDRegression(lambda_1=0.5)\n",
    "ardr3_sej = linear_model.ARDRegression(lambda_1=0.5)"
   ]
  },
  {
   "cell_type": "markdown",
   "metadata": {},
   "source": [
    "#### Fit pour chaque modèle"
   ]
  },
  {
   "cell_type": "code",
   "execution_count": 33,
   "metadata": {},
   "outputs": [
    {
     "data": {
      "text/plain": [
       "ARDRegression(alpha_1=1e-06, alpha_2=1e-06, compute_score=False, copy_X=True,\n",
       "              fit_intercept=True, lambda_1=0.5, lambda_2=1e-06, n_iter=300,\n",
       "              normalize=False, threshold_lambda=10000.0, tol=0.001,\n",
       "              verbose=False)"
      ]
     },
     "execution_count": 33,
     "metadata": {},
     "output_type": "execute_result"
    }
   ],
   "source": [
    "# Fit 'dt' to the training-set \n",
    "dt1_nbp.fit(X_train1_nbp, y_train1_nbp)\n",
    "dt2_nbp.fit(X_train2_nbp, y_train2_nbp)\n",
    "dt3_nbp.fit(X_train3_nbp, y_train3_nbp)\n",
    "\n",
    "dt1_age.fit(X_train1_age, y_train1_age)\n",
    "dt2_age.fit(X_train2_age, y_train2_age)\n",
    "dt3_age.fit(X_train3_age, y_train3_age)\n",
    "\n",
    "dt1_grv.fit(X_train1_grv, y_train1_grv)\n",
    "dt2_grv.fit(X_train2_grv, y_train2_grv)\n",
    "dt3_grv.fit(X_train3_grv, y_train3_grv)\n",
    "\n",
    "dt1_sej.fit(X_train1_sej, y_train1_sej)\n",
    "dt2_sej.fit(X_train2_sej, y_train2_sej)\n",
    "dt3_sej.fit(X_train3_sej, y_train3_sej)\n",
    "\n",
    "# Fit 'lr' to the training-set \n",
    "lr1_nbp.fit(X_train1_nbp, y_train1_nbp)\n",
    "lr2_nbp.fit(X_train2_nbp, y_train2_nbp)\n",
    "lr3_nbp.fit(X_train3_nbp, y_train3_nbp)\n",
    "\n",
    "lr1_age.fit(X_train1_age, y_train1_age)\n",
    "lr2_age.fit(X_train2_age, y_train2_age)\n",
    "lr3_age.fit(X_train3_age, y_train3_age)\n",
    "\n",
    "lr1_grv.fit(X_train1_grv, y_train1_grv)\n",
    "lr2_grv.fit(X_train2_grv, y_train2_grv)\n",
    "lr3_grv.fit(X_train3_grv, y_train3_grv)\n",
    "\n",
    "lr1_sej.fit(X_train1_sej, y_train1_sej)\n",
    "lr2_sej.fit(X_train2_sej, y_train2_sej)\n",
    "lr3_sej.fit(X_train3_sej, y_train3_sej)\n",
    "\n",
    "# Fit 'la' to the training-set \n",
    "la1_nbp.fit(X_train1_nbp, y_train1_nbp)\n",
    "la2_nbp.fit(X_train2_nbp, y_train2_nbp)\n",
    "la3_nbp.fit(X_train3_nbp, y_train3_nbp)\n",
    "\n",
    "la1_age.fit(X_train1_age, y_train1_age)\n",
    "la2_age.fit(X_train2_age, y_train2_age)\n",
    "la3_age.fit(X_train3_age, y_train3_age)\n",
    "\n",
    "la1_grv.fit(X_train1_grv, y_train1_grv)\n",
    "la2_grv.fit(X_train2_grv, y_train2_grv)\n",
    "la3_grv.fit(X_train3_grv, y_train3_grv)\n",
    "\n",
    "la1_sej.fit(X_train1_sej, y_train1_sej)\n",
    "la2_sej.fit(X_train2_sej, y_train2_sej)\n",
    "la3_sej.fit(X_train3_sej, y_train3_sej)\n",
    "\n",
    "# Fit 'en' to the training-set \n",
    "en1_nbp.fit(X_train1_nbp, y_train1_nbp)\n",
    "en2_nbp.fit(X_train2_nbp, y_train2_nbp)\n",
    "en3_nbp.fit(X_train3_nbp, y_train3_nbp)\n",
    "\n",
    "en1_age.fit(X_train1_age, y_train1_age)\n",
    "en2_age.fit(X_train2_age, y_train2_age)\n",
    "en3_age.fit(X_train3_age, y_train3_age)\n",
    "\n",
    "en1_grv.fit(X_train1_grv, y_train1_grv)\n",
    "en2_grv.fit(X_train2_grv, y_train2_grv)\n",
    "en3_grv.fit(X_train3_grv, y_train3_grv)\n",
    "\n",
    "en1_sej.fit(X_train1_sej, y_train1_sej)\n",
    "en2_sej.fit(X_train2_sej, y_train2_sej)\n",
    "en3_sej.fit(X_train3_sej, y_train3_sej)\n",
    "\n",
    "# Fit 'ardr' to the training-set \n",
    "ardr1_nbp.fit(X_train1_nbp, y_train1_nbp)\n",
    "ardr2_nbp.fit(X_train2_nbp, y_train2_nbp)\n",
    "ardr3_nbp.fit(X_train3_nbp, y_train3_nbp)\n",
    "\n",
    "ardr1_age.fit(X_train1_age, y_train1_age)\n",
    "ardr2_age.fit(X_train2_age, y_train2_age)\n",
    "ardr3_age.fit(X_train3_age, y_train3_age)\n",
    "\n",
    "ardr1_grv.fit(X_train1_grv, y_train1_grv)\n",
    "ardr2_grv.fit(X_train2_grv, y_train2_grv)\n",
    "ardr3_grv.fit(X_train3_grv, y_train3_grv)\n",
    "\n",
    "ardr1_sej.fit(X_train1_sej, y_train1_sej)\n",
    "ardr2_sej.fit(X_train2_sej, y_train2_sej)\n",
    "ardr3_sej.fit(X_train3_sej, y_train3_sej)"
   ]
  },
  {
   "cell_type": "markdown",
   "metadata": {},
   "source": [
    "#### Predict pour chaque modèle"
   ]
  },
  {
   "cell_type": "code",
   "execution_count": 34,
   "metadata": {},
   "outputs": [],
   "source": [
    "# Predict test-set labels \n",
    "#dt\n",
    "y_pred1_dt_nbp = dt1_nbp.predict(X_test1_nbp)\n",
    "y_pred2_dt_nbp = dt2_nbp.predict(X_test2_nbp)\n",
    "y_pred3_dt_nbp = dt3_nbp.predict(X_test3_nbp)\n",
    "\n",
    "y_pred1_dt_age = dt1_age.predict(X_test1_age)\n",
    "y_pred2_dt_age = dt2_age.predict(X_test2_age)\n",
    "y_pred3_dt_age = dt3_age.predict(X_test3_age)\n",
    "\n",
    "y_pred1_dt_grv = dt1_grv.predict(X_test1_grv)\n",
    "y_pred2_dt_grv = dt2_grv.predict(X_test2_grv)\n",
    "y_pred3_dt_grv = dt3_grv.predict(X_test3_grv)\n",
    "\n",
    "y_pred1_dt_sej = dt1_sej.predict(X_test1_sej)\n",
    "y_pred2_dt_sej = dt2_sej.predict(X_test2_sej)\n",
    "y_pred3_dt_sej = dt3_sej.predict(X_test3_sej)\n",
    "\n",
    "#lr\n",
    "y_pred1_lr_nbp = lr1_nbp.predict(X_test1_nbp)\n",
    "y_pred2_lr_nbp = lr2_nbp.predict(X_test2_nbp)\n",
    "y_pred3_lr_nbp = lr3_nbp.predict(X_test3_nbp)\n",
    "\n",
    "y_pred1_lr_age = lr1_age.predict(X_test1_age)\n",
    "y_pred2_lr_age = lr2_age.predict(X_test2_age)\n",
    "y_pred3_lr_age = lr3_age.predict(X_test3_age)\n",
    "\n",
    "y_pred1_lr_grv = lr1_grv.predict(X_test1_grv)\n",
    "y_pred2_lr_grv = lr2_grv.predict(X_test2_grv)\n",
    "y_pred3_lr_grv = lr3_grv.predict(X_test3_grv)\n",
    "\n",
    "y_pred1_lr_sej = lr1_sej.predict(X_test1_sej)\n",
    "y_pred2_lr_sej = lr2_sej.predict(X_test2_sej)\n",
    "y_pred3_lr_sej = lr3_sej.predict(X_test3_sej)\n",
    "\n",
    "#la\n",
    "y_pred1_la_nbp = la1_nbp.predict(X_test1_nbp)\n",
    "y_pred2_la_nbp = la2_nbp.predict(X_test2_nbp)\n",
    "y_pred3_la_nbp = la3_nbp.predict(X_test3_nbp)\n",
    "\n",
    "y_pred1_la_age = la1_age.predict(X_test1_age)\n",
    "y_pred2_la_age = la2_age.predict(X_test2_age)\n",
    "y_pred3_la_age = la3_age.predict(X_test3_age)\n",
    "\n",
    "y_pred1_la_grv = la1_grv.predict(X_test1_grv)\n",
    "y_pred2_la_grv = la2_grv.predict(X_test2_grv)\n",
    "y_pred3_la_grv = la3_grv.predict(X_test3_grv)\n",
    "\n",
    "y_pred1_la_sej = la1_sej.predict(X_test1_sej)\n",
    "y_pred2_la_sej = la2_sej.predict(X_test2_sej)\n",
    "y_pred3_la_sej = la3_sej.predict(X_test3_sej)\n",
    "\n",
    "#en\n",
    "y_pred1_en_nbp = en1_nbp.predict(X_test1_nbp)\n",
    "y_pred2_en_nbp = en2_nbp.predict(X_test2_nbp)\n",
    "y_pred3_en_nbp = en3_nbp.predict(X_test3_nbp)\n",
    "\n",
    "y_pred1_en_age = en1_age.predict(X_test1_age)\n",
    "y_pred2_en_age = en2_age.predict(X_test2_age)\n",
    "y_pred3_en_age = en3_age.predict(X_test3_age)\n",
    "\n",
    "y_pred1_en_grv = en1_grv.predict(X_test1_grv)\n",
    "y_pred2_en_grv = en2_grv.predict(X_test2_grv)\n",
    "y_pred3_en_grv = en3_grv.predict(X_test3_grv)\n",
    "\n",
    "y_pred1_en_sej = en1_sej.predict(X_test1_sej)\n",
    "y_pred2_en_sej = en2_sej.predict(X_test2_sej)\n",
    "y_pred3_en_sej = en3_sej.predict(X_test3_sej)\n",
    "\n",
    "#ardr\n",
    "y_pred1_ardr_nbp = ardr1_nbp.predict(X_test1_nbp)\n",
    "y_pred2_ardr_nbp = ardr2_nbp.predict(X_test2_nbp)\n",
    "y_pred3_ardr_nbp = ardr3_nbp.predict(X_test3_nbp)\n",
    "\n",
    "y_pred1_ardr_age = ardr1_age.predict(X_test1_age)\n",
    "y_pred2_ardr_age = ardr2_age.predict(X_test2_age)\n",
    "y_pred3_ardr_age = ardr3_age.predict(X_test3_age)\n",
    "\n",
    "y_pred1_ardr_grv = ardr1_grv.predict(X_test1_grv)\n",
    "y_pred2_ardr_grv = ardr2_grv.predict(X_test2_grv)\n",
    "y_pred3_ardr_grv = ardr3_grv.predict(X_test3_grv)\n",
    "\n",
    "y_pred1_ardr_sej = ardr1_sej.predict(X_test1_sej)\n",
    "y_pred2_ardr_sej = ardr2_sej.predict(X_test2_sej)\n",
    "y_pred3_ardr_sej = ardr3_sej.predict(X_test3_sej)"
   ]
  },
  {
   "cell_type": "markdown",
   "metadata": {},
   "source": [
    "#### Calcul MSE et RMSE pour chaque modèle"
   ]
  },
  {
   "cell_type": "code",
   "execution_count": 35,
   "metadata": {},
   "outputs": [],
   "source": [
    "# Compute test-set MSE\n",
    "#dt\n",
    "mse_dt1_nbp = MSE(y_test1_nbp, y_pred1_dt_nbp)\n",
    "mse_dt2_nbp = MSE(y_test2_nbp, y_pred2_dt_nbp)\n",
    "mse_dt3_nbp = MSE(y_test3_nbp, y_pred3_dt_nbp)\n",
    "\n",
    "mse_dt1_age = MSE(y_test1_age, y_pred1_dt_age)\n",
    "mse_dt2_age = MSE(y_test2_age, y_pred2_dt_age)\n",
    "mse_dt3_age = MSE(y_test3_age, y_pred3_dt_age)\n",
    "\n",
    "mse_dt1_grv = MSE(y_test1_grv, y_pred1_dt_grv)\n",
    "mse_dt2_grv = MSE(y_test2_grv, y_pred2_dt_grv)\n",
    "mse_dt3_grv = MSE(y_test3_grv, y_pred3_dt_grv)\n",
    "\n",
    "mse_dt1_sej = MSE(y_test1_sej, y_pred1_dt_sej)\n",
    "mse_dt2_sej = MSE(y_test2_sej, y_pred2_dt_sej)\n",
    "mse_dt3_sej = MSE(y_test3_sej, y_pred3_dt_sej)\n",
    "\n",
    "#lr\n",
    "mse_lr1_nbp = MSE(y_test1_nbp, y_pred1_lr_nbp)\n",
    "mse_lr2_nbp = MSE(y_test2_nbp, y_pred2_lr_nbp)\n",
    "mse_lr3_nbp = MSE(y_test3_nbp, y_pred3_lr_nbp)\n",
    "\n",
    "mse_lr1_age = MSE(y_test1_age, y_pred1_lr_age)\n",
    "mse_lr2_age = MSE(y_test2_age, y_pred2_lr_age)\n",
    "mse_lr3_age = MSE(y_test3_age, y_pred3_lr_age)\n",
    "\n",
    "mse_lr1_grv = MSE(y_test1_grv, y_pred1_lr_grv)\n",
    "mse_lr2_grv = MSE(y_test2_grv, y_pred2_lr_grv)\n",
    "mse_lr3_grv = MSE(y_test3_grv, y_pred3_lr_grv)\n",
    "\n",
    "mse_lr1_sej = MSE(y_test1_sej, y_pred1_lr_sej)\n",
    "mse_lr2_sej = MSE(y_test2_sej, y_pred2_lr_sej)\n",
    "mse_lr3_sej = MSE(y_test3_sej, y_pred3_lr_sej)\n",
    "\n",
    "#la\n",
    "mse_la1_nbp = MSE(y_test1_nbp, y_pred1_la_nbp)\n",
    "mse_la2_nbp = MSE(y_test2_nbp, y_pred2_la_nbp)\n",
    "mse_la3_nbp = MSE(y_test3_nbp, y_pred3_la_nbp)\n",
    "\n",
    "mse_la1_age = MSE(y_test1_age, y_pred1_la_age)\n",
    "mse_la2_age = MSE(y_test2_age, y_pred2_la_age)\n",
    "mse_la3_age = MSE(y_test3_age, y_pred3_la_age)\n",
    "\n",
    "mse_la1_grv = MSE(y_test1_grv, y_pred1_la_grv)\n",
    "mse_la2_grv = MSE(y_test2_grv, y_pred2_la_grv)\n",
    "mse_la3_grv = MSE(y_test3_grv, y_pred3_la_grv)\n",
    "\n",
    "mse_la1_sej = MSE(y_test1_sej, y_pred1_la_sej)\n",
    "mse_la2_sej = MSE(y_test2_sej, y_pred2_la_sej)\n",
    "mse_la3_sej = MSE(y_test3_sej, y_pred3_la_sej)\n",
    "\n",
    "#en\n",
    "mse_en1_nbp = MSE(y_test1_nbp, y_pred1_en_nbp)\n",
    "mse_en2_nbp = MSE(y_test2_nbp, y_pred2_en_nbp)\n",
    "mse_en3_nbp = MSE(y_test3_nbp, y_pred3_en_nbp)\n",
    "\n",
    "mse_en1_age = MSE(y_test1_age, y_pred1_en_age)\n",
    "mse_en2_age = MSE(y_test2_age, y_pred2_en_age)\n",
    "mse_en3_age = MSE(y_test3_age, y_pred3_en_age)\n",
    "\n",
    "mse_en1_grv = MSE(y_test1_grv, y_pred1_en_grv)\n",
    "mse_en2_grv = MSE(y_test2_grv, y_pred2_en_grv)\n",
    "mse_en3_grv = MSE(y_test3_grv, y_pred3_en_grv)\n",
    "\n",
    "mse_en1_sej = MSE(y_test1_sej, y_pred1_en_sej)\n",
    "mse_en2_sej = MSE(y_test2_sej, y_pred2_en_sej)\n",
    "mse_en3_sej = MSE(y_test3_sej, y_pred3_en_sej)\n",
    "\n",
    "#ardr\n",
    "mse_ardr1_nbp = MSE(y_test1_nbp, y_pred1_ardr_nbp)\n",
    "mse_ardr2_nbp = MSE(y_test2_nbp, y_pred2_ardr_nbp)\n",
    "mse_ardr3_nbp = MSE(y_test3_nbp, y_pred3_ardr_nbp)\n",
    "\n",
    "mse_ardr1_age = MSE(y_test1_age, y_pred1_ardr_age)\n",
    "mse_ardr2_age = MSE(y_test2_age, y_pred2_ardr_age)\n",
    "mse_ardr3_age = MSE(y_test3_age, y_pred3_ardr_age)\n",
    "\n",
    "mse_ardr1_grv = MSE(y_test1_grv, y_pred1_ardr_grv)\n",
    "mse_ardr2_grv = MSE(y_test2_grv, y_pred2_ardr_grv)\n",
    "mse_ardr3_grv = MSE(y_test3_grv, y_pred3_ardr_grv)\n",
    "\n",
    "mse_ardr1_sej = MSE(y_test1_sej, y_pred1_ardr_sej)\n",
    "mse_ardr2_sej = MSE(y_test2_sej, y_pred2_ardr_sej)\n",
    "mse_ardr3_sej = MSE(y_test3_sej, y_pred3_ardr_sej)\n",
    "\n",
    "\n",
    "# Compute test-set RMSE \n",
    "#dt\n",
    "rmse_dt1_nbp = mse_dt1_nbp**(1/2)\n",
    "rmse_dt2_nbp = mse_dt2_nbp**(1/2)\n",
    "rmse_dt3_nbp = mse_dt3_nbp**(1/2)\n",
    "\n",
    "rmse_dt1_age = mse_dt1_age**(1/2)\n",
    "rmse_dt2_age = mse_dt2_age**(1/2)\n",
    "rmse_dt3_age = mse_dt3_age**(1/2)\n",
    "\n",
    "rmse_dt1_grv = mse_dt1_grv**(1/2)\n",
    "rmse_dt2_grv = mse_dt2_grv**(1/2)\n",
    "rmse_dt3_grv = mse_dt3_grv**(1/2)\n",
    "\n",
    "rmse_dt1_sej = mse_dt1_sej**(1/2)\n",
    "rmse_dt2_sej = mse_dt2_sej**(1/2)\n",
    "rmse_dt3_sej = mse_dt3_sej**(1/2)\n",
    "\n",
    "#lr\n",
    "rmse_lr1_nbp = mse_lr1_nbp**(1/2)\n",
    "rmse_lr2_nbp = mse_lr2_nbp**(1/2)\n",
    "rmse_lr3_nbp = mse_lr3_nbp**(1/2)\n",
    "\n",
    "rmse_lr1_age = mse_lr1_age**(1/2)\n",
    "rmse_lr2_age = mse_lr2_age**(1/2)\n",
    "rmse_lr3_age = mse_lr3_age**(1/2)\n",
    "\n",
    "rmse_lr1_grv = mse_lr1_grv**(1/2)\n",
    "rmse_lr2_grv = mse_lr2_grv**(1/2)\n",
    "rmse_lr3_grv = mse_lr3_grv**(1/2)\n",
    "\n",
    "rmse_lr1_sej = mse_lr1_sej**(1/2)\n",
    "rmse_lr2_sej = mse_lr2_sej**(1/2)\n",
    "rmse_lr3_sej = mse_lr3_sej**(1/2)\n",
    "\n",
    "#la\n",
    "rmse_la1_nbp = mse_la1_nbp**(1/2)\n",
    "rmse_la2_nbp = mse_la2_nbp**(1/2)\n",
    "rmse_la3_nbp = mse_la3_nbp**(1/2)\n",
    "\n",
    "rmse_la1_age = mse_la1_age**(1/2)\n",
    "rmse_la2_age = mse_la2_age**(1/2)\n",
    "rmse_la3_age = mse_la3_age**(1/2)\n",
    "\n",
    "rmse_la1_grv = mse_la1_grv**(1/2)\n",
    "rmse_la2_grv = mse_la2_grv**(1/2)\n",
    "rmse_la3_grv = mse_la3_grv**(1/2)\n",
    "\n",
    "rmse_la1_sej = mse_la1_sej**(1/2)\n",
    "rmse_la2_sej = mse_la2_sej**(1/2)\n",
    "rmse_la3_sej = mse_la3_sej**(1/2)\n",
    "\n",
    "#en\n",
    "rmse_en1_nbp = mse_en1_nbp**(1/2)\n",
    "rmse_en2_nbp = mse_en2_nbp**(1/2)\n",
    "rmse_en3_nbp = mse_en3_nbp**(1/2)\n",
    "\n",
    "rmse_en1_age = mse_en1_age**(1/2)\n",
    "rmse_en2_age = mse_en2_age**(1/2)\n",
    "rmse_en3_age = mse_en3_age**(1/2)\n",
    "\n",
    "rmse_en1_grv = mse_en1_grv**(1/2)\n",
    "rmse_en2_grv = mse_en2_grv**(1/2)\n",
    "rmse_en3_grv = mse_en3_grv**(1/2)\n",
    "\n",
    "rmse_en1_sej = mse_en1_sej**(1/2)\n",
    "rmse_en2_sej = mse_en2_sej**(1/2)\n",
    "rmse_en3_sej = mse_en3_sej**(1/2)\n",
    "\n",
    "#ardr\n",
    "rmse_ardr1_nbp = mse_ardr1_nbp**(1/2)\n",
    "rmse_ardr2_nbp = mse_ardr2_nbp**(1/2)\n",
    "rmse_ardr3_nbp = mse_ardr3_nbp**(1/2)\n",
    "\n",
    "rmse_ardr1_age = mse_ardr1_age**(1/2)\n",
    "rmse_ardr2_age = mse_ardr2_age**(1/2)\n",
    "rmse_ardr3_age = mse_ardr3_age**(1/2)\n",
    "\n",
    "rmse_ardr1_grv = mse_ardr1_grv**(1/2)\n",
    "rmse_ardr2_grv = mse_ardr2_grv**(1/2)\n",
    "rmse_ardr3_grv = mse_ardr3_grv**(1/2)\n",
    "\n",
    "rmse_ardr1_sej = mse_ardr1_sej**(1/2)\n",
    "rmse_ardr2_sej = mse_ardr2_sej**(1/2)\n",
    "rmse_ardr3_sej = mse_ardr3_sej**(1/2)"
   ]
  },
  {
   "cell_type": "markdown",
   "metadata": {},
   "source": [
    "#### Affichage erreur pour chaque modèle"
   ]
  },
  {
   "cell_type": "code",
   "execution_count": 36,
   "metadata": {},
   "outputs": [
    {
     "name": "stdout",
     "output_type": "stream",
     "text": [
      "Decision Tree Regressor\n",
      "                      mse      rmse       mean\n",
      "nb_patiens_J-0  39.046019  6.248681  20.316520\n",
      "nb_patiens_J+1  31.151530  5.581356  20.316520\n",
      "nb_patiens_J+2  42.970256  6.555170  20.316520\n",
      "age_J-0         39.368032  6.274395  57.855018\n",
      "age_J+1         41.320919  6.428135  57.855018\n",
      "age_J+2         37.016396  6.084110  57.855018\n",
      "grv_J-0          0.056468  0.237630   2.606943\n",
      "grv_J+1          0.057296  0.239366   2.606943\n",
      "grv_J+2          0.053534  0.231373   2.606943\n",
      "sej_J-0         32.908451  5.736589   9.463334\n",
      "sej_J+1         19.219143  4.383964   9.463334\n",
      "sej_J+2         24.216970  4.921074   9.463334\n"
     ]
    }
   ],
   "source": [
    "result_dt = pd.DataFrame(columns = ['mse' , 'rmse','mean'])\n",
    "result_dt.loc[\"nb_patiens_J-0\"] = [mse_dt1_nbp,rmse_dt1_nbp,mean_nbp]\n",
    "result_dt.loc[\"nb_patiens_J+1\"] = [mse_dt2_nbp,rmse_dt2_nbp,mean_nbp]\n",
    "result_dt.loc[\"nb_patiens_J+2\"] = [mse_dt3_nbp,rmse_dt3_nbp,mean_nbp]\n",
    "result_dt.loc[\"age_J-0\"] = [mse_dt1_age,rmse_dt1_age,mean_age]\n",
    "result_dt.loc[\"age_J+1\"] = [mse_dt2_age,rmse_dt2_age,mean_age]\n",
    "result_dt.loc[\"age_J+2\"] = [mse_dt3_age,rmse_dt3_age,mean_age]\n",
    "result_dt.loc[\"grv_J-0\"] = [mse_dt1_grv,rmse_dt1_grv,mean_grv]\n",
    "result_dt.loc[\"grv_J+1\"] = [mse_dt2_grv,rmse_dt2_grv,mean_grv]\n",
    "result_dt.loc[\"grv_J+2\"] = [mse_dt3_grv,rmse_dt3_grv,mean_grv]\n",
    "result_dt.loc[\"sej_J-0\"] = [mse_dt1_sej,rmse_dt1_sej,mean_sej]\n",
    "result_dt.loc[\"sej_J+1\"] = [mse_dt2_sej,rmse_dt2_sej,mean_sej]\n",
    "result_dt.loc[\"sej_J+2\"] = [mse_dt3_sej,rmse_dt3_sej,mean_sej]\n",
    "print(\"Decision Tree Regressor\")\n",
    "print(result_dt)"
   ]
  },
  {
   "cell_type": "code",
   "execution_count": 37,
   "metadata": {
    "scrolled": true
   },
   "outputs": [
    {
     "name": "stdout",
     "output_type": "stream",
     "text": [
      "Linear Regression\n",
      "                      mse      rmse       mean\n",
      "nb_patiens_J-0  39.207854  6.261618  20.316520\n",
      "nb_patiens_J+1  32.575220  5.707471  20.316520\n",
      "nb_patiens_J+2  43.209772  6.573414  20.316520\n",
      "age_J-0         34.440177  5.868575  57.855018\n",
      "age_J+1         38.331114  6.191213  57.855018\n",
      "age_J+2         34.270149  5.854071  57.855018\n",
      "grv_J-0          0.057507  0.239807   2.606943\n",
      "grv_J+1          0.055191  0.234928   2.606943\n",
      "grv_J+2          0.057185  0.239134   2.606943\n",
      "sej_J-0         51.347819  7.165739   9.463334\n",
      "sej_J+1         24.706214  4.970535   9.463334\n",
      "sej_J+2         31.303835  5.594983   9.463334\n"
     ]
    }
   ],
   "source": [
    "result_lr = pd.DataFrame(columns = ['mse' , 'rmse','mean'])\n",
    "result_lr.loc[\"nb_patiens_J-0\"] = [mse_lr1_nbp,rmse_lr1_nbp,mean_nbp]\n",
    "result_lr.loc[\"nb_patiens_J+1\"] = [mse_lr2_nbp,rmse_lr2_nbp,mean_nbp]\n",
    "result_lr.loc[\"nb_patiens_J+2\"] = [mse_lr3_nbp,rmse_lr3_nbp,mean_nbp]\n",
    "result_lr.loc[\"age_J-0\"] = [mse_lr1_age,rmse_lr1_age,mean_age]\n",
    "result_lr.loc[\"age_J+1\"] = [mse_lr2_age,rmse_lr2_age,mean_age]\n",
    "result_lr.loc[\"age_J+2\"] = [mse_lr3_age,rmse_lr3_age,mean_age]\n",
    "result_lr.loc[\"grv_J-0\"] = [mse_lr1_grv,rmse_lr1_grv,mean_grv]\n",
    "result_lr.loc[\"grv_J+1\"] = [mse_lr2_grv,rmse_lr2_grv,mean_grv]\n",
    "result_lr.loc[\"grv_J+2\"] = [mse_lr3_grv,rmse_lr3_grv,mean_grv]\n",
    "result_lr.loc[\"sej_J-0\"] = [mse_lr1_sej,rmse_lr1_sej,mean_sej]\n",
    "result_lr.loc[\"sej_J+1\"] = [mse_lr2_sej,rmse_lr2_sej,mean_sej]\n",
    "result_lr.loc[\"sej_J+2\"] = [mse_lr3_sej,rmse_lr3_sej,mean_sej]\n",
    "print(\"Linear Regression\")\n",
    "print(result_lr)"
   ]
  },
  {
   "cell_type": "code",
   "execution_count": 38,
   "metadata": {},
   "outputs": [
    {
     "name": "stdout",
     "output_type": "stream",
     "text": [
      "Lasso\n",
      "                      mse      rmse       mean\n",
      "nb_patiens_J-0  39.070504  6.250640  20.316520\n",
      "nb_patiens_J+1  29.678649  5.447811  20.316520\n",
      "nb_patiens_J+2  43.142925  6.568327  20.316520\n",
      "age_J-0         34.141733  5.843093  57.855018\n",
      "age_J+1         37.779012  6.146463  57.855018\n",
      "age_J+2         33.925364  5.824548  57.855018\n",
      "grv_J-0          0.054151  0.232703   2.606943\n",
      "grv_J+1          0.053143  0.230527   2.606943\n",
      "grv_J+2          0.054333  0.233095   2.606943\n",
      "sej_J-0         32.914380  5.737106   9.463334\n",
      "sej_J+1         16.229887  4.028633   9.463334\n",
      "sej_J+2         19.044051  4.363949   9.463334\n"
     ]
    }
   ],
   "source": [
    "result_la = pd.DataFrame(columns = ['mse' , 'rmse','mean'])\n",
    "result_la.loc[\"nb_patiens_J-0\"] = [mse_la1_nbp,rmse_la1_nbp,mean_nbp]\n",
    "result_la.loc[\"nb_patiens_J+1\"] = [mse_la2_nbp,rmse_la2_nbp,mean_nbp]\n",
    "result_la.loc[\"nb_patiens_J+2\"] = [mse_la3_nbp,rmse_la3_nbp,mean_nbp]\n",
    "result_la.loc[\"age_J-0\"] = [mse_la1_age,rmse_la1_age,mean_age]\n",
    "result_la.loc[\"age_J+1\"] = [mse_la2_age,rmse_la2_age,mean_age]\n",
    "result_la.loc[\"age_J+2\"] = [mse_la3_age,rmse_la3_age,mean_age]\n",
    "result_la.loc[\"grv_J-0\"] = [mse_la1_grv,rmse_la1_grv,mean_grv]\n",
    "result_la.loc[\"grv_J+1\"] = [mse_la2_grv,rmse_la2_grv,mean_grv]\n",
    "result_la.loc[\"grv_J+2\"] = [mse_la3_grv,rmse_la3_grv,mean_grv]\n",
    "result_la.loc[\"sej_J-0\"] = [mse_la1_sej,rmse_la1_sej,mean_sej]\n",
    "result_la.loc[\"sej_J+1\"] = [mse_la2_sej,rmse_la2_sej,mean_sej]\n",
    "result_la.loc[\"sej_J+2\"] = [mse_la3_sej,rmse_la3_sej,mean_sej]\n",
    "print(\"Lasso\")\n",
    "print(result_la)"
   ]
  },
  {
   "cell_type": "code",
   "execution_count": 39,
   "metadata": {},
   "outputs": [
    {
     "name": "stdout",
     "output_type": "stream",
     "text": [
      "ElasticNet\n",
      "                      mse      rmse       mean\n",
      "nb_patiens_J-0  39.096573  6.252725  20.316520\n",
      "nb_patiens_J+1  29.663521  5.446423  20.316520\n",
      "nb_patiens_J+2  43.225181  6.574586  20.316520\n",
      "age_J-0         34.176028  5.846027  57.855018\n",
      "age_J+1         37.744212  6.143632  57.855018\n",
      "age_J+2         33.906324  5.822914  57.855018\n",
      "grv_J-0          0.054151  0.232703   2.606943\n",
      "grv_J+1          0.053143  0.230527   2.606943\n",
      "grv_J+2          0.054333  0.233095   2.606943\n",
      "sej_J-0         33.138886  5.756638   9.463334\n",
      "sej_J+1         16.464006  4.057586   9.463334\n",
      "sej_J+2         19.454523  4.410728   9.463334\n"
     ]
    }
   ],
   "source": [
    "result_en = pd.DataFrame(columns = ['mse' , 'rmse','mean'])\n",
    "result_en.loc[\"nb_patiens_J-0\"] = [mse_en1_nbp,rmse_en1_nbp,mean_nbp]\n",
    "result_en.loc[\"nb_patiens_J+1\"] = [mse_en2_nbp,rmse_en2_nbp,mean_nbp]\n",
    "result_en.loc[\"nb_patiens_J+2\"] = [mse_en3_nbp,rmse_en3_nbp,mean_nbp]\n",
    "result_en.loc[\"age_J-0\"] = [mse_en1_age,rmse_en1_age,mean_age]\n",
    "result_en.loc[\"age_J+1\"] = [mse_en2_age,rmse_en2_age,mean_age]\n",
    "result_en.loc[\"age_J+2\"] = [mse_en3_age,rmse_en3_age,mean_age]\n",
    "result_en.loc[\"grv_J-0\"] = [mse_en1_grv,rmse_en1_grv,mean_grv]\n",
    "result_en.loc[\"grv_J+1\"] = [mse_en2_grv,rmse_en2_grv,mean_grv]\n",
    "result_en.loc[\"grv_J+2\"] = [mse_en3_grv,rmse_en3_grv,mean_grv]\n",
    "result_en.loc[\"sej_J-0\"] = [mse_en1_sej,rmse_en1_sej,mean_sej]\n",
    "result_en.loc[\"sej_J+1\"] = [mse_en2_sej,rmse_en2_sej,mean_sej]\n",
    "result_en.loc[\"sej_J+2\"] = [mse_en3_sej,rmse_en3_sej,mean_sej]\n",
    "print(\"ElasticNet\")\n",
    "print(result_en)"
   ]
  },
  {
   "cell_type": "code",
   "execution_count": 40,
   "metadata": {},
   "outputs": [
    {
     "name": "stdout",
     "output_type": "stream",
     "text": [
      "ARDRegression\n",
      "                      mse      rmse       mean\n",
      "nb_patiens_J-0  38.097570  6.172323  20.316520\n",
      "nb_patiens_J+1  30.161051  5.491908  20.316520\n",
      "nb_patiens_J+2  41.371843  6.432095  20.316520\n",
      "age_J-0         33.675161  5.803030  57.855018\n",
      "age_J+1         37.510313  6.124566  57.855018\n",
      "age_J+2         33.757846  5.810150  57.855018\n",
      "grv_J-0          0.054151  0.232703   2.606943\n",
      "grv_J+1          0.053143  0.230527   2.606943\n",
      "grv_J+2          0.054333  0.233095   2.606943\n",
      "sej_J-0         22.344891  4.727038   9.463334\n",
      "sej_J+1          7.986053  2.825960   9.463334\n",
      "sej_J+2         11.052243  3.324491   9.463334\n"
     ]
    }
   ],
   "source": [
    "result_ardr = pd.DataFrame(columns = ['mse' , 'rmse','mean'])\n",
    "result_ardr.loc[\"nb_patiens_J-0\"] = [mse_ardr1_nbp,rmse_ardr1_nbp,mean_nbp]\n",
    "result_ardr.loc[\"nb_patiens_J+1\"] = [mse_ardr2_nbp,rmse_ardr2_nbp,mean_nbp]\n",
    "result_ardr.loc[\"nb_patiens_J+2\"] = [mse_ardr3_nbp,rmse_ardr3_nbp,mean_nbp]\n",
    "result_ardr.loc[\"age_J-0\"] = [mse_ardr1_age,rmse_ardr1_age,mean_age]\n",
    "result_ardr.loc[\"age_J+1\"] = [mse_ardr2_age,rmse_ardr2_age,mean_age]\n",
    "result_ardr.loc[\"age_J+2\"] = [mse_ardr3_age,rmse_ardr3_age,mean_age]\n",
    "result_ardr.loc[\"grv_J-0\"] = [mse_ardr1_grv,rmse_ardr1_grv,mean_grv]\n",
    "result_ardr.loc[\"grv_J+1\"] = [mse_ardr2_grv,rmse_ardr2_grv,mean_grv]\n",
    "result_ardr.loc[\"grv_J+2\"] = [mse_ardr3_grv,rmse_ardr3_grv,mean_grv]\n",
    "result_ardr.loc[\"sej_J-0\"] = [mse_ardr1_sej,rmse_ardr1_sej,mean_sej]\n",
    "result_ardr.loc[\"sej_J+1\"] = [mse_ardr2_sej,rmse_ardr2_sej,mean_sej]\n",
    "result_ardr.loc[\"sej_J+2\"] = [mse_ardr3_sej,rmse_ardr3_sej,mean_sej]\n",
    "print(\"ARDRegression\")\n",
    "print(result_ardr)"
   ]
  },
  {
   "cell_type": "markdown",
   "metadata": {},
   "source": [
    "## Graphique"
   ]
  },
  {
   "cell_type": "code",
   "execution_count": 41,
   "metadata": {},
   "outputs": [
    {
     "data": {
      "image/png": "[encoded data removed]",
      "text/plain": [
       "<Figure size 432x288 with 1 Axes>"
      ]
     },
     "metadata": {
      "needs_background": "light"
     },
     "output_type": "display_data"
    }
   ],
   "source": [
    "plt.scatter(y_pred1_dt_nbp,y_pred1_dt_nbp - y_test1_nbp, c=\"grey\",label=\"Testing Data\")\n",
    "plt.legend()\n",
    "plt.hlines(y=0, xmin=y_test1_nbp.min(),xmax=y_test1_nbp.max())\n",
    "plt.title(\"Residual Plot\")\n",
    "plt.show()"
   ]
  },
  {
   "cell_type": "code",
   "execution_count": 42,
   "metadata": {},
   "outputs": [
    {
     "data": {
      "image/png": "[encoded data removed]",
      "text/plain": [
       "<Figure size 432x288 with 1 Axes>"
      ]
     },
     "metadata": {
      "needs_background": "light"
     },
     "output_type": "display_data"
    }
   ],
   "source": [
    "plt.scatter(y_pred2_dt_nbp,y_pred2_dt_nbp - y_test2_nbp, c=\"grey\",label=\"Testing Data\")\n",
    "plt.legend()\n",
    "plt.hlines(y=0, xmin=y_test2_nbp.min(),xmax=y_test2_nbp.max())\n",
    "plt.title(\"Residual Plot\")\n",
    "plt.show()"
   ]
  },
  {
   "cell_type": "code",
   "execution_count": 43,
   "metadata": {},
   "outputs": [
    {
     "data": {
      "image/png": "[encoded data removed]",
      "text/plain": [
       "<Figure size 432x288 with 1 Axes>"
      ]
     },
     "metadata": {
      "needs_background": "light"
     },
     "output_type": "display_data"
    }
   ],
   "source": [
    "plt.scatter(y_pred3_dt_nbp,y_pred3_dt_nbp - y_test3_nbp, c=\"grey\",label=\"Testing Data\")\n",
    "plt.legend()\n",
    "plt.hlines(y=0, xmin=y_test3_nbp.min(),xmax=y_test3_nbp.max())\n",
    "plt.title(\"Residual Plot\")\n",
    "plt.show()"
   ]
  },
  {
   "cell_type": "code",
   "execution_count": null,
   "metadata": {},
   "outputs": [],
   "source": []
  }
 ],
 "metadata": {
  "kernelspec": {
   "display_name": "Python 3",
   "language": "python",
   "name": "python3"
  },
  "language_info": {
   "codemirror_mode": {
    "name": "ipython",
    "version": 3
   },
   "file_extension": ".py",
   "mimetype": "text/x-python",
   "name": "python",
   "nbconvert_exporter": "python",
   "pygments_lexer": "ipython3",
   "version": "3.7.6"
  }
 },
 "nbformat": 4,
 "nbformat_minor": 4
}
